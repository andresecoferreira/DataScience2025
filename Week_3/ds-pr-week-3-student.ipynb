{
 "cells": [
  {
   "cell_type": "markdown",
   "id": "924e4ccb4f93c6cb",
   "metadata": {},
   "source": [
    "# Part 1: Descriptive Statistics with Python\n",
    "In this section, we will explore fundamental concepts of quantitative features in rectatuar date.\n",
    "\n",
    "- Central Tendency: Mean, Median, Mode\n",
    "- Dispersion: Range, IQR, Variance, STD\n",
    "- Frequency Tables and Categorical Feature Summaries\n",
    "- Notion of A Distribution\n",
    "- Population vs Sample"
   ]
  },
  {
   "cell_type": "markdown",
   "id": "315106ea38fb0dc0",
   "metadata": {},
   "source": [
    "## 1. Setup & Quick Review\n",
    "Let's start by importing the necessary libraries and loading a dataset."
   ]
  },
  {
   "cell_type": "code",
   "id": "initial_id",
   "metadata": {
    "collapsed": true,
    "ExecuteTime": {
     "end_time": "2025-09-22T20:31:49.742208Z",
     "start_time": "2025-09-22T20:31:49.530587Z"
    }
   },
   "source": [
    "import pandas as pd\n",
    "import numpy as np\n",
    "import matplotlib.pyplot as plt\n",
    "\n",
    "# dataset: Titanic (small and real-world)\n",
    "df = pd.read_csv(\"https://raw.githubusercontent.com/zuilpirola/DS/refs/heads/main/Week2/titanic.csv\")\n",
    "\n",
    "df.head()"
   ],
   "outputs": [
    {
     "data": {
      "text/plain": [
       "   PassengerId  Survived  Pclass  \\\n",
       "0            1         0       3   \n",
       "1            2         1       1   \n",
       "2            3         1       3   \n",
       "3            4         1       1   \n",
       "4            5         0       3   \n",
       "\n",
       "                                                Name     Sex   Age  SibSp  \\\n",
       "0                            Braund, Mr. Owen Harris    male  22.0      1   \n",
       "1  Cumings, Mrs. John Bradley (Florence Briggs Th...  female  38.0      1   \n",
       "2                             Heikkinen, Miss. Laina  female  26.0      0   \n",
       "3       Futrelle, Mrs. Jacques Heath (Lily May Peel)  female  35.0      1   \n",
       "4                           Allen, Mr. William Henry    male  35.0      0   \n",
       "\n",
       "   Parch            Ticket     Fare Cabin Embarked  \n",
       "0      0         A/5 21171   7.2500   NaN        S  \n",
       "1      0          PC 17599  71.2833   C85        C  \n",
       "2      0  STON/O2. 3101282   7.9250   NaN        S  \n",
       "3      0            113803  53.1000  C123        S  \n",
       "4      0            373450   8.0500   NaN        S  "
      ],
      "text/html": [
       "<div>\n",
       "<style scoped>\n",
       "    .dataframe tbody tr th:only-of-type {\n",
       "        vertical-align: middle;\n",
       "    }\n",
       "\n",
       "    .dataframe tbody tr th {\n",
       "        vertical-align: top;\n",
       "    }\n",
       "\n",
       "    .dataframe thead th {\n",
       "        text-align: right;\n",
       "    }\n",
       "</style>\n",
       "<table border=\"1\" class=\"dataframe\">\n",
       "  <thead>\n",
       "    <tr style=\"text-align: right;\">\n",
       "      <th></th>\n",
       "      <th>PassengerId</th>\n",
       "      <th>Survived</th>\n",
       "      <th>Pclass</th>\n",
       "      <th>Name</th>\n",
       "      <th>Sex</th>\n",
       "      <th>Age</th>\n",
       "      <th>SibSp</th>\n",
       "      <th>Parch</th>\n",
       "      <th>Ticket</th>\n",
       "      <th>Fare</th>\n",
       "      <th>Cabin</th>\n",
       "      <th>Embarked</th>\n",
       "    </tr>\n",
       "  </thead>\n",
       "  <tbody>\n",
       "    <tr>\n",
       "      <th>0</th>\n",
       "      <td>1</td>\n",
       "      <td>0</td>\n",
       "      <td>3</td>\n",
       "      <td>Braund, Mr. Owen Harris</td>\n",
       "      <td>male</td>\n",
       "      <td>22.0</td>\n",
       "      <td>1</td>\n",
       "      <td>0</td>\n",
       "      <td>A/5 21171</td>\n",
       "      <td>7.2500</td>\n",
       "      <td>NaN</td>\n",
       "      <td>S</td>\n",
       "    </tr>\n",
       "    <tr>\n",
       "      <th>1</th>\n",
       "      <td>2</td>\n",
       "      <td>1</td>\n",
       "      <td>1</td>\n",
       "      <td>Cumings, Mrs. John Bradley (Florence Briggs Th...</td>\n",
       "      <td>female</td>\n",
       "      <td>38.0</td>\n",
       "      <td>1</td>\n",
       "      <td>0</td>\n",
       "      <td>PC 17599</td>\n",
       "      <td>71.2833</td>\n",
       "      <td>C85</td>\n",
       "      <td>C</td>\n",
       "    </tr>\n",
       "    <tr>\n",
       "      <th>2</th>\n",
       "      <td>3</td>\n",
       "      <td>1</td>\n",
       "      <td>3</td>\n",
       "      <td>Heikkinen, Miss. Laina</td>\n",
       "      <td>female</td>\n",
       "      <td>26.0</td>\n",
       "      <td>0</td>\n",
       "      <td>0</td>\n",
       "      <td>STON/O2. 3101282</td>\n",
       "      <td>7.9250</td>\n",
       "      <td>NaN</td>\n",
       "      <td>S</td>\n",
       "    </tr>\n",
       "    <tr>\n",
       "      <th>3</th>\n",
       "      <td>4</td>\n",
       "      <td>1</td>\n",
       "      <td>1</td>\n",
       "      <td>Futrelle, Mrs. Jacques Heath (Lily May Peel)</td>\n",
       "      <td>female</td>\n",
       "      <td>35.0</td>\n",
       "      <td>1</td>\n",
       "      <td>0</td>\n",
       "      <td>113803</td>\n",
       "      <td>53.1000</td>\n",
       "      <td>C123</td>\n",
       "      <td>S</td>\n",
       "    </tr>\n",
       "    <tr>\n",
       "      <th>4</th>\n",
       "      <td>5</td>\n",
       "      <td>0</td>\n",
       "      <td>3</td>\n",
       "      <td>Allen, Mr. William Henry</td>\n",
       "      <td>male</td>\n",
       "      <td>35.0</td>\n",
       "      <td>0</td>\n",
       "      <td>0</td>\n",
       "      <td>373450</td>\n",
       "      <td>8.0500</td>\n",
       "      <td>NaN</td>\n",
       "      <td>S</td>\n",
       "    </tr>\n",
       "  </tbody>\n",
       "</table>\n",
       "</div>"
      ]
     },
     "execution_count": 12,
     "metadata": {},
     "output_type": "execute_result"
    }
   ],
   "execution_count": 12
  },
  {
   "cell_type": "markdown",
   "id": "684f6a2a4aec768c",
   "metadata": {},
   "source": [
    "### Exercise 1\n",
    "- Explore the dataset with `info()`, ` describe()`and check:\n",
    "  1. How many lines and columns are there?\n",
    "  2. Which columns are numerical? What are categorical?"
   ]
  },
  {
   "cell_type": "code",
   "id": "8cb4d291c0a1cd8a",
   "metadata": {
    "ExecuteTime": {
     "end_time": "2025-09-22T19:37:33.434702Z",
     "start_time": "2025-09-22T19:37:33.370819Z"
    }
   },
   "source": "df.info()",
   "outputs": [
    {
     "name": "stdout",
     "output_type": "stream",
     "text": [
      "<class 'pandas.core.frame.DataFrame'>\n",
      "RangeIndex: 891 entries, 0 to 890\n",
      "Data columns (total 12 columns):\n",
      " #   Column       Non-Null Count  Dtype  \n",
      "---  ------       --------------  -----  \n",
      " 0   PassengerId  891 non-null    int64  \n",
      " 1   Survived     891 non-null    int64  \n",
      " 2   Pclass       891 non-null    int64  \n",
      " 3   Name         891 non-null    object \n",
      " 4   Sex          891 non-null    object \n",
      " 5   Age          714 non-null    float64\n",
      " 6   SibSp        891 non-null    int64  \n",
      " 7   Parch        891 non-null    int64  \n",
      " 8   Ticket       891 non-null    object \n",
      " 9   Fare         891 non-null    float64\n",
      " 10  Cabin        204 non-null    object \n",
      " 11  Embarked     889 non-null    object \n",
      "dtypes: float64(2), int64(5), object(5)\n",
      "memory usage: 83.7+ KB\n"
     ]
    }
   ],
   "execution_count": 4
  },
  {
   "cell_type": "markdown",
   "id": "2e8ae1733fae702b",
   "metadata": {},
   "source": [
    "## 2. Central trend\n",
    "Let's calculate average, median and mode for some numerical variables."
   ]
  },
  {
   "metadata": {
    "ExecuteTime": {
     "end_time": "2025-09-22T20:35:54.540048Z",
     "start_time": "2025-09-22T20:35:54.491568Z"
    }
   },
   "cell_type": "code",
   "source": [
    "mean_age = df['Age'].mean()\n",
    "print(mean_age)\n",
    "median_age = df['Age'].median()\n",
    "print(median_age)\n",
    "mode_age = df['Age'].mode()\n",
    "print(mode_age)"
   ],
   "id": "3deeaba73d4a5358",
   "outputs": [
    {
     "name": "stdout",
     "output_type": "stream",
     "text": [
      "29.69911764705882\n",
      "28.0\n",
      "0    24.0\n",
      "Name: Age, dtype: float64\n"
     ]
    }
   ],
   "execution_count": 16
  },
  {
   "cell_type": "markdown",
   "id": "36a090849e6aa282",
   "metadata": {},
   "source": [
    "### Exercise 2\n",
    "1. Calculate the average, median and mode of the variable `Fare`.\n",
    "2. Compare with the values obtained for ` Age`.\n",
    "3. Note the results and discuss: Is there a significant difference between average and median? What can justify this?"
   ]
  },
  {
   "cell_type": "code",
   "id": "ea4600356b03a314",
   "metadata": {
    "ExecuteTime": {
     "end_time": "2025-09-22T20:38:45.197708Z",
     "start_time": "2025-09-22T20:38:45.190457Z"
    }
   },
   "source": [
    "print(df.Fare.mean())\n",
    "print(df.Fare.median())\n",
    "print(df.Fare.mode())"
   ],
   "outputs": [
    {
     "name": "stdout",
     "output_type": "stream",
     "text": [
      "32.204207968574636\n",
      "14.4542\n",
      "0    8.05\n",
      "Name: Fare, dtype: float64\n"
     ]
    }
   ],
   "execution_count": 19
  },
  {
   "cell_type": "markdown",
   "id": "721d6629cb8ee279",
   "metadata": {},
   "source": [
    "## 3. Dispersion measurements\n",
    "Dispersion measures how spread the data."
   ]
  },
  {
   "metadata": {},
   "cell_type": "code",
   "outputs": [],
   "execution_count": null,
   "source": "",
   "id": "bcec6b011ada1a53"
  },
  {
   "cell_type": "code",
   "id": "630f5cbebab22803",
   "metadata": {
    "ExecuteTime": {
     "end_time": "2025-09-22T20:53:30.741885Z",
     "start_time": "2025-09-22T20:53:30.734972Z"
    }
   },
   "source": [
    "# Example with Age\n",
    "df.Age.var()\n",
    "df.Age.std()\n",
    "age_iqr = df.Age.quantile(0.75) - df.Age.quantile(0.25)\n",
    "age_iqr"
   ],
   "outputs": [
    {
     "data": {
      "text/plain": [
       "np.float64(17.875)"
      ]
     },
     "execution_count": 24,
     "metadata": {},
     "output_type": "execute_result"
    }
   ],
   "execution_count": 24
  },
  {
   "cell_type": "markdown",
   "id": "87391eb04e577a84",
   "metadata": {},
   "source": [
    "### Exercise 3\n",
    "1. Calculate range, iQR, variance and standard deviation for `Fare`.\n",
    "2. Compare the results of ` Age`and ` Fare`.\n",
    "3. Make a histogram of each variable. Which has the greatest dispersion?"
   ]
  },
  {
   "cell_type": "code",
   "execution_count": null,
   "id": "f280935cc391ca53",
   "metadata": {},
   "outputs": [],
   "source": []
  },
  {
   "cell_type": "markdown",
   "id": "980b18f46e58744",
   "metadata": {},
   "source": [
    "## 4. Distributions and frequencies\n",
    "Let's explore distributions with histograms and frequencies for categorical variables."
   ]
  },
  {
   "cell_type": "code",
   "execution_count": 6,
   "id": "5b10f9d05750c587",
   "metadata": {
    "ExecuteTime": {
     "end_time": "2025-09-12T13:18:56.848301Z",
     "start_time": "2025-09-12T13:18:56.151164Z"
    }
   },
   "outputs": [],
   "source": [
    "# Age Distribution\n",
    "\n",
    "\n",
    "# Frequency per gender\n"
   ]
  },
  {
   "cell_type": "markdown",
   "id": "4195b499b86581ea",
   "metadata": {},
   "source": [
    "### Exercise 4\n",
    "1. Make a histogram of `Fare`.\n",
    "2. Create a frequency table for the variable ` Pclass`.\n",
    "3. Create a Cross Table (CROSSTAB) of ` Sex`X ` Survived`.\n",
    "4. Calculate the average ` Age`put ` Sex`.\n"
   ]
  },
  {
   "cell_type": "code",
   "execution_count": null,
   "id": "9ec9c62f77c1cb78",
   "metadata": {},
   "outputs": [],
   "source": []
  },
  {
   "cell_type": "markdown",
   "id": "4f12e485d8c18be",
   "metadata": {},
   "source": [
    "## 5. Population vs Sample\n",
    "Let's see how statistics can vary between population and sample."
   ]
  },
  {
   "cell_type": "code",
   "execution_count": null,
   "id": "dccf82c646b91d7e",
   "metadata": {
    "ExecuteTime": {
     "end_time": "2025-09-12T13:19:26.336998Z",
     "start_time": "2025-09-12T13:19:26.330884Z"
    }
   },
   "outputs": [
    {
     "name": "stdout",
     "output_type": "stream",
     "text": [
      "Média da população (Age): 29.69911764705882\n",
      "Média da amostra (Age): 30.69382978723404\n"
     ]
    }
   ],
   "source": []
  },
  {
   "cell_type": "markdown",
   "id": "7b108eab66dc3856",
   "metadata": {},
   "source": [
    "### Exercise 5\n",
    "1. Create a sample of 30% of the data.\n",
    "2. Compare the average and the standard deviation of `Fare` between the population and this sample.\n",
    "3. Repeat the process 3 times (with `random_state` different) and note: are the results always the same?"
   ]
  },
  {
   "cell_type": "code",
   "execution_count": null,
   "id": "b6f99633b78fafd5",
   "metadata": {},
   "outputs": [],
   "source": []
  },
  {
   "cell_type": "markdown",
   "id": "753e20ae44efcd1",
   "metadata": {},
   "source": [
    "## 6. Mini Reflection\n",
    "Think and discuss in pairs:\n",
    "- What really means the variable `Age` On this dataset?\n",
    "- Are there limitations or contexts that we should keep in mind when analyzing it?"
   ]
  },
  {
   "cell_type": "code",
   "execution_count": null,
   "id": "f1a715e05eb76c12",
   "metadata": {},
   "outputs": [],
   "source": []
  },
  {
   "cell_type": "markdown",
   "id": "ece0d466da99775",
   "metadata": {},
   "source": [
    "# Part 2: Practical Challenges"
   ]
  },
  {
   "cell_type": "code",
   "execution_count": 21,
   "id": "8169916b0a973181",
   "metadata": {
    "ExecuteTime": {
     "end_time": "2025-09-12T13:28:02.133390Z",
     "start_time": "2025-09-12T13:28:02.093244Z"
    }
   },
   "outputs": [],
   "source": [
    "import seaborn as sns"
   ]
  },
  {
   "cell_type": "markdown",
   "id": "dd4a76c5b13bd8dc",
   "metadata": {},
   "source": [
    "## Exercise 1\n",
    "Average, median and mode `Fare` and `Age`. Then remove the 5% higher (outliers) and recalculate. What has changed?"
   ]
  },
  {
   "cell_type": "code",
   "execution_count": 12,
   "id": "d0dbd3bcbd1ce1bc",
   "metadata": {
    "ExecuteTime": {
     "end_time": "2025-09-12T13:24:30.599662Z",
     "start_time": "2025-09-12T13:24:30.582462Z"
    }
   },
   "outputs": [
    {
     "name": "stdout",
     "output_type": "stream",
     "text": [
      "Fare: mean=32.20, median=14.45, mode=8.05\n",
      "Age: mean=29.70, median=28.00, mode=24.0\n",
      "Fare sem outliers: mean=24.14, median=13.93\n",
      "Age sem outliers: mean=27.90, median=28.00\n"
     ]
    }
   ],
   "source": [
    "# Average, median and mode\n",
    "for col in [\"Fare\", \"Age\"]:\n",
    "    print(f\"{col}: mean={df[col].mean():.2f}, median={df[col].median():.2f}, mode={df[col].mode()[0]}\")\n",
    "\n",
    "# Remove 5% higher values\n",
    "df_no_outliers = df[(df[\"Fare\"] <= df[\"Fare\"].quantile(0.95)) & (df[\"Age\"] <= df[\"Age\"].quantile(0.95))]\n",
    "\n",
    "for col in [\"Fare\", \"Age\"]:\n",
    "    print(f\"{col} sem outliers: mean={df_no_outliers[col].mean():.2f}, median={df_no_outliers[col].median():.2f}\")"
   ]
  },
  {
   "cell_type": "markdown",
   "id": "e2cd882b5c63967c",
   "metadata": {},
   "source": [
    "## Exercise 2\n",
    "Compare the average `Age` between passengers who survived (`Survived=1`) and did not survive."
   ]
  },
  {
   "cell_type": "code",
   "execution_count": null,
   "id": "1ce78ba3fbcc1518",
   "metadata": {
    "ExecuteTime": {
     "end_time": "2025-09-12T13:24:51.642825Z",
     "start_time": "2025-09-12T13:24:51.633113Z"
    }
   },
   "outputs": [
    {
     "data": {
      "text/plain": [
       "Survived\n",
       "0    30.626179\n",
       "1    28.343690\n",
       "Name: Age, dtype: float64"
      ]
     },
     "execution_count": 13,
     "metadata": {},
     "output_type": "execute_result"
    }
   ],
   "source": []
  },
  {
   "cell_type": "markdown",
   "id": "50bcdc8fa6ea2044",
   "metadata": {},
   "source": [
    "## Exercise 3\n",
    "Create a function that is called a numerical column and return Mean, Median, Mode."
   ]
  },
  {
   "cell_type": "code",
   "execution_count": null,
   "id": "e47cb4924d8a7205",
   "metadata": {
    "ExecuteTime": {
     "end_time": "2025-09-12T13:25:15.226946Z",
     "start_time": "2025-09-12T13:25:15.218892Z"
    }
   },
   "outputs": [
    {
     "data": {
      "text/plain": [
       "{'mean': np.float64(29.69911764705882),\n",
       " 'median': np.float64(28.0),\n",
       " 'mode': np.float64(24.0)}"
      ]
     },
     "execution_count": 14,
     "metadata": {},
     "output_type": "execute_result"
    }
   ],
   "source": []
  },
  {
   "cell_type": "markdown",
   "id": "5db39247b605cb46",
   "metadata": {},
   "source": [
    "## Exercise 4\n",
    "In what situation is the median better than the average on the Titanic dataset?"
   ]
  },
  {
   "cell_type": "code",
   "execution_count": null,
   "id": "3a65ccdf32021f89",
   "metadata": {
    "ExecuteTime": {
     "end_time": "2025-09-12T13:25:46.142015Z",
     "start_time": "2025-09-12T13:25:46.138898Z"
    }
   },
   "outputs": [],
   "source": []
  },
  {
   "cell_type": "markdown",
   "id": "760f217231d8b74b",
   "metadata": {},
   "source": [
    "## Exercise 5\n",
    "Calculate range, iQR, variance and standard deviation of `Age` put `Pclass`.\n"
   ]
  },
  {
   "cell_type": "code",
   "execution_count": null,
   "id": "9f7dd4538683b21b",
   "metadata": {
    "ExecuteTime": {
     "end_time": "2025-09-12T13:26:12.980139Z",
     "start_time": "2025-09-12T13:26:12.963166Z"
    }
   },
   "outputs": [
    {
     "data": {
      "text/html": [
       "<div>\n",
       "<style scoped>\n",
       "    .dataframe tbody tr th:only-of-type {\n",
       "        vertical-align: middle;\n",
       "    }\n",
       "\n",
       "    .dataframe tbody tr th {\n",
       "        vertical-align: top;\n",
       "    }\n",
       "\n",
       "    .dataframe thead th {\n",
       "        text-align: right;\n",
       "    }\n",
       "</style>\n",
       "<table border=\"1\" class=\"dataframe\">\n",
       "  <thead>\n",
       "    <tr style=\"text-align: right;\">\n",
       "      <th></th>\n",
       "      <th>min</th>\n",
       "      <th>max</th>\n",
       "      <th>std</th>\n",
       "      <th>var</th>\n",
       "      <th>range</th>\n",
       "      <th>IQR</th>\n",
       "    </tr>\n",
       "    <tr>\n",
       "      <th>Pclass</th>\n",
       "      <th></th>\n",
       "      <th></th>\n",
       "      <th></th>\n",
       "      <th></th>\n",
       "      <th></th>\n",
       "      <th></th>\n",
       "    </tr>\n",
       "  </thead>\n",
       "  <tbody>\n",
       "    <tr>\n",
       "      <th>1</th>\n",
       "      <td>0.92</td>\n",
       "      <td>80.0</td>\n",
       "      <td>14.802856</td>\n",
       "      <td>219.124543</td>\n",
       "      <td>79.08</td>\n",
       "      <td>22.0</td>\n",
       "    </tr>\n",
       "    <tr>\n",
       "      <th>2</th>\n",
       "      <td>0.67</td>\n",
       "      <td>70.0</td>\n",
       "      <td>14.001077</td>\n",
       "      <td>196.030152</td>\n",
       "      <td>69.33</td>\n",
       "      <td>13.0</td>\n",
       "    </tr>\n",
       "    <tr>\n",
       "      <th>3</th>\n",
       "      <td>0.42</td>\n",
       "      <td>74.0</td>\n",
       "      <td>12.495398</td>\n",
       "      <td>156.134976</td>\n",
       "      <td>73.58</td>\n",
       "      <td>14.0</td>\n",
       "    </tr>\n",
       "  </tbody>\n",
       "</table>\n",
       "</div>"
      ],
      "text/plain": [
       "         min   max        std         var  range   IQR\n",
       "Pclass                                                \n",
       "1       0.92  80.0  14.802856  219.124543  79.08  22.0\n",
       "2       0.67  70.0  14.001077  196.030152  69.33  13.0\n",
       "3       0.42  74.0  12.495398  156.134976  73.58  14.0"
      ]
     },
     "execution_count": 16,
     "metadata": {},
     "output_type": "execute_result"
    }
   ],
   "source": []
  },
  {
   "cell_type": "markdown",
   "id": "57b9b885250092ca",
   "metadata": {},
   "source": [
    "## Exercise 6\n",
    "Compare dispersion (STD) of `Fare` between `Sex`.\n"
   ]
  },
  {
   "cell_type": "code",
   "execution_count": null,
   "id": "f0383833660dafdf",
   "metadata": {
    "ExecuteTime": {
     "end_time": "2025-09-12T13:26:30.771967Z",
     "start_time": "2025-09-12T13:26:30.763361Z"
    }
   },
   "outputs": [
    {
     "data": {
      "text/plain": [
       "Sex\n",
       "female    57.997698\n",
       "male      43.138263\n",
       "Name: Fare, dtype: float64"
      ]
     },
     "execution_count": 17,
     "metadata": {},
     "output_type": "execute_result"
    }
   ],
   "source": []
  },
  {
   "cell_type": "markdown",
   "id": "873a324268f62ab1",
   "metadata": {},
   "source": [
    "## Exercise 7\n",
    "Identify the numerical variable with the highest coefficient of variation (STD/Mean)."
   ]
  },
  {
   "cell_type": "code",
   "execution_count": null,
   "id": "1ee32d546792568a",
   "metadata": {
    "ExecuteTime": {
     "end_time": "2025-09-12T13:26:53.958033Z",
     "start_time": "2025-09-12T13:26:53.948450Z"
    }
   },
   "outputs": [
    {
     "data": {
      "text/plain": [
       "Parch          2.112344\n",
       "SibSp          2.108464\n",
       "Fare           1.543073\n",
       "Survived       1.267701\n",
       "PassengerId    0.577027\n",
       "Age            0.489122\n",
       "Pclass         0.362149\n",
       "dtype: float64"
      ]
     },
     "execution_count": 18,
     "metadata": {},
     "output_type": "execute_result"
    }
   ],
   "source": []
  },
  {
   "cell_type": "markdown",
   "id": "9af3b450dbdae8ea",
   "metadata": {},
   "source": [
    "## Exercise 8\n",
    "Compare Boxplots of `Fare` between classes `Pclass`.\n"
   ]
  },
  {
   "cell_type": "code",
   "execution_count": null,
   "id": "101182dfa0618c17",
   "metadata": {
    "ExecuteTime": {
     "end_time": "2025-09-12T13:28:07.528592Z",
     "start_time": "2025-09-12T13:28:07.455957Z"
    }
   },
   "outputs": [],
   "source": []
  },
  {
   "cell_type": "markdown",
   "id": "f206d5de48eb489f",
   "metadata": {},
   "source": [
    "## Exercise 9\n",
    "Plot Histograms of `Age` For each gender."
   ]
  },
  {
   "cell_type": "code",
   "execution_count": null,
   "id": "f6c0a91f8b568c21",
   "metadata": {
    "ExecuteTime": {
     "end_time": "2025-09-12T13:29:29.291788Z",
     "start_time": "2025-09-12T13:29:29.174795Z"
    }
   },
   "outputs": [],
   "source": []
  },
  {
   "cell_type": "markdown",
   "id": "a8428e60ee1d1364",
   "metadata": {},
   "source": [
    "## Exercise 10\n",
    "Cross table `Survived` X `Pclass` with line standardization."
   ]
  },
  {
   "cell_type": "code",
   "execution_count": null,
   "id": "2a1ecd4bbc44ccbe",
   "metadata": {
    "ExecuteTime": {
     "end_time": "2025-09-12T13:29:47.102718Z",
     "start_time": "2025-09-12T13:29:47.087725Z"
    }
   },
   "outputs": [
    {
     "data": {
      "text/html": [
       "<div>\n",
       "<style scoped>\n",
       "    .dataframe tbody tr th:only-of-type {\n",
       "        vertical-align: middle;\n",
       "    }\n",
       "\n",
       "    .dataframe tbody tr th {\n",
       "        vertical-align: top;\n",
       "    }\n",
       "\n",
       "    .dataframe thead th {\n",
       "        text-align: right;\n",
       "    }\n",
       "</style>\n",
       "<table border=\"1\" class=\"dataframe\">\n",
       "  <thead>\n",
       "    <tr style=\"text-align: right;\">\n",
       "      <th>Survived</th>\n",
       "      <th>0</th>\n",
       "      <th>1</th>\n",
       "    </tr>\n",
       "    <tr>\n",
       "      <th>Pclass</th>\n",
       "      <th></th>\n",
       "      <th></th>\n",
       "    </tr>\n",
       "  </thead>\n",
       "  <tbody>\n",
       "    <tr>\n",
       "      <th>1</th>\n",
       "      <td>0.370370</td>\n",
       "      <td>0.629630</td>\n",
       "    </tr>\n",
       "    <tr>\n",
       "      <th>2</th>\n",
       "      <td>0.527174</td>\n",
       "      <td>0.472826</td>\n",
       "    </tr>\n",
       "    <tr>\n",
       "      <th>3</th>\n",
       "      <td>0.757637</td>\n",
       "      <td>0.242363</td>\n",
       "    </tr>\n",
       "  </tbody>\n",
       "</table>\n",
       "</div>"
      ],
      "text/plain": [
       "Survived         0         1\n",
       "Pclass                      \n",
       "1         0.370370  0.629630\n",
       "2         0.527174  0.472826\n",
       "3         0.757637  0.242363"
      ]
     },
     "execution_count": 24,
     "metadata": {},
     "output_type": "execute_result"
    }
   ],
   "source": []
  },
  {
   "cell_type": "markdown",
   "id": "1769554948dd0d2b",
   "metadata": {},
   "source": [
    "## Exercise 11\n",
    "Distribution of `Embarked` percentage"
   ]
  },
  {
   "cell_type": "code",
   "execution_count": null,
   "id": "5e8e16d3ad5130",
   "metadata": {
    "ExecuteTime": {
     "end_time": "2025-09-12T13:30:13.087205Z",
     "start_time": "2025-09-12T13:30:13.072432Z"
    }
   },
   "outputs": [
    {
     "data": {
      "text/plain": [
       "Embarked\n",
       "S    0.724409\n",
       "C    0.188976\n",
       "Q    0.086614\n",
       "Name: proportion, dtype: float64"
      ]
     },
     "execution_count": 25,
     "metadata": {},
     "output_type": "execute_result"
    }
   ],
   "source": []
  },
  {
   "cell_type": "markdown",
   "id": "e2b5ffae1286e74e",
   "metadata": {},
   "source": [
    "## Exercise 12\n",
    "Average of `Fare` put `Embarked`\n"
   ]
  },
  {
   "cell_type": "code",
   "execution_count": null,
   "id": "df3f0cdb0f6ece54",
   "metadata": {
    "ExecuteTime": {
     "end_time": "2025-09-12T13:30:38.305678Z",
     "start_time": "2025-09-12T13:30:38.299088Z"
    }
   },
   "outputs": [
    {
     "data": {
      "text/plain": [
       "Embarked\n",
       "C    59.954144\n",
       "Q    13.276030\n",
       "S    27.079812\n",
       "Name: Fare, dtype: float64"
      ]
     },
     "execution_count": 26,
     "metadata": {},
     "output_type": "execute_result"
    }
   ],
   "source": []
  },
  {
   "cell_type": "markdown",
   "id": "4f8d6af21e363857",
   "metadata": {},
   "source": [
    "## Exercise 13\n",
    "Proportion of `Sex` within each `Pclass`\n"
   ]
  },
  {
   "cell_type": "code",
   "execution_count": null,
   "id": "544897c1088436dd",
   "metadata": {
    "ExecuteTime": {
     "end_time": "2025-09-12T13:31:00.358267Z",
     "start_time": "2025-09-12T13:31:00.345235Z"
    }
   },
   "outputs": [
    {
     "data": {
      "text/html": [
       "<div>\n",
       "<style scoped>\n",
       "    .dataframe tbody tr th:only-of-type {\n",
       "        vertical-align: middle;\n",
       "    }\n",
       "\n",
       "    .dataframe tbody tr th {\n",
       "        vertical-align: top;\n",
       "    }\n",
       "\n",
       "    .dataframe thead th {\n",
       "        text-align: right;\n",
       "    }\n",
       "</style>\n",
       "<table border=\"1\" class=\"dataframe\">\n",
       "  <thead>\n",
       "    <tr style=\"text-align: right;\">\n",
       "      <th>Sex</th>\n",
       "      <th>female</th>\n",
       "      <th>male</th>\n",
       "    </tr>\n",
       "    <tr>\n",
       "      <th>Pclass</th>\n",
       "      <th></th>\n",
       "      <th></th>\n",
       "    </tr>\n",
       "  </thead>\n",
       "  <tbody>\n",
       "    <tr>\n",
       "      <th>1</th>\n",
       "      <td>0.435185</td>\n",
       "      <td>0.564815</td>\n",
       "    </tr>\n",
       "    <tr>\n",
       "      <th>2</th>\n",
       "      <td>0.413043</td>\n",
       "      <td>0.586957</td>\n",
       "    </tr>\n",
       "    <tr>\n",
       "      <th>3</th>\n",
       "      <td>0.293279</td>\n",
       "      <td>0.706721</td>\n",
       "    </tr>\n",
       "  </tbody>\n",
       "</table>\n",
       "</div>"
      ],
      "text/plain": [
       "Sex       female      male\n",
       "Pclass                    \n",
       "1       0.435185  0.564815\n",
       "2       0.413043  0.586957\n",
       "3       0.293279  0.706721"
      ]
     },
     "execution_count": 27,
     "metadata": {},
     "output_type": "execute_result"
    }
   ],
   "source": []
  },
  {
   "cell_type": "markdown",
   "id": "e0373a931a4831dd",
   "metadata": {},
   "source": [
    "## Exercise 14\n",
    "5 samples of 20% and average `Age` in each"
   ]
  },
  {
   "cell_type": "code",
   "execution_count": null,
   "id": "e96de699bb2bc766",
   "metadata": {
    "ExecuteTime": {
     "end_time": "2025-09-12T13:31:12.248Z",
     "start_time": "2025-09-12T13:31:12.238689Z"
    }
   },
   "outputs": [
    {
     "name": "stdout",
     "output_type": "stream",
     "text": [
      "Amostra 1 mean Age: 29.59\n",
      "Amostra 2 mean Age: 28.04\n",
      "Amostra 3 mean Age: 29.38\n",
      "Amostra 4 mean Age: 27.35\n",
      "Amostra 5 mean Age: 28.46\n"
     ]
    }
   ],
   "source": []
  },
  {
   "cell_type": "markdown",
   "id": "e2bc19f6bea77946",
   "metadata": {},
   "source": [
    "## Exercise 15\n",
    "Standard deviation of `Age` for the same samples"
   ]
  },
  {
   "cell_type": "code",
   "execution_count": null,
   "id": "32c74d2449535098",
   "metadata": {
    "ExecuteTime": {
     "end_time": "2025-09-12T13:31:34.273270Z",
     "start_time": "2025-09-12T13:31:34.255847Z"
    }
   },
   "outputs": [
    {
     "name": "stdout",
     "output_type": "stream",
     "text": [
      "Amostra 1 std Age: 14.22\n",
      "Amostra 2 std Age: 12.96\n",
      "Amostra 3 std Age: 15.46\n",
      "Amostra 4 std Age: 13.14\n",
      "Amostra 5 std Age: 14.29\n"
     ]
    }
   ],
   "source": []
  }
 ],
 "metadata": {
  "kernelspec": {
   "display_name": "3.13.2",
   "language": "python",
   "name": "python3"
  },
  "language_info": {
   "codemirror_mode": {
    "name": "ipython",
    "version": 3
   },
   "file_extension": ".py",
   "mimetype": "text/x-python",
   "name": "python",
   "nbconvert_exporter": "python",
   "pygments_lexer": "ipython3",
   "version": "3.13.2"
  }
 },
 "nbformat": 4,
 "nbformat_minor": 5
}
