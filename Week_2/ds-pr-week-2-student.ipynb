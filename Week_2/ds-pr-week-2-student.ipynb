{
 "cells": [
  {
   "cell_type": "markdown",
   "metadata": {
    "id": "CLTldup4laHF"
   },
   "source": [
    "# Practical session week 2 - Rectangular data and Pandas\n",
    "\n",
    "## Purpose\n",
    "Give an introduction to  \n",
    "* Jupyter Notebook\n",
    "* Rectangular data\n",
    "* Variables and records\n",
    "* Independent and dependent variables\n",
    "* Pandas and Numpy Libraries\n",
    "* Exploratory Data Analysis\n",
    "\n",
    "## Methodology\n",
    "We will be using the Pandas library to load a dataset, perform operation and conduct some data analysis. Some challenges are presented at the end.\n",
    "\n",
    "## Results\n",
    "Some knowledge on how to load, write and manipulate rectangular data in Python. First hands on real data.\n",
    "\n",
    "## Suggested next steps\n",
    "Explore different types of data visualizations. Check [Python Graph Gallery](https://www.python-graph-gallery.com/) for ideas. This will be the topic of next week.\n"
   ]
  },
  {
   "cell_type": "markdown",
   "metadata": {
    "id": "SRHAgztLT8-s"
   },
   "source": [
    "# Jupyter Notebooks\n",
    "\n",
    "Anaconda will be our preference as a Python environment manager. If you haven't done it already, [install](https://www.anaconda.com/).\n",
    "\n",
    "Jupyter Lab/Notebooks will be our IDE of preference.\n",
    "\n",
    "Jupyter Notebooks are composed by Cells.\n",
    "\n",
    "Cells can be either Markdown or Code.  \n",
    "\n",
    "- Markdown cells allows us to write text, formulae, add images and explain things in the same way we would do in a normal notebook. Here is a [cheat sheet](https://guides.github.com/pdfs/markdown-cheatsheet-online.pdf) for Markdown Sintax.\n",
    "\n",
    "- Code Cells allows us to execute code.\n",
    "\n",
    "Here is a Jupyter Notebook commands [cheat sheet](https://www.edureka.co/blog/wp-content/uploads/2018/10/Jupyter_Notebook_CheatSheet_Edureka.pdf) although you can also use the Help tab.\n",
    "\n",
    "Useful Jupyter Notebook shortcuts:\n",
    "- Esc and Enter to toggle between edit mode (notice how the colour of the cell on the left changes)\n",
    "- A - new cell after current cell\n",
    "- B - new cell before current cell\n",
    "- Shit + Enter - execute cell and go to the next\n",
    "- Ctrl + Enter - execute cell and remain on current\n",
    "- DD - delete cell\n",
    "- Z  - undo deleted"
   ]
  },
  {
   "cell_type": "markdown",
   "metadata": {
    "id": "xqPLrLWnT8-t"
   },
   "source": [
    "## Numpy"
   ]
  },
  {
   "cell_type": "markdown",
   "metadata": {
    "id": "1KW4cqvzT8-u"
   },
   "source": [
    "Numpy is the core library for scientific computing in Python. It provides a high-performance multidimensional array object, and tools for working with these arrays. Also, it offers comprehensive mathematical functions, random number generators, linear algebra routines, Fourier transforms, and more."
   ]
  },
  {
   "cell_type": "code",
   "metadata": {
    "id": "y962c4MfT8-t",
    "ExecuteTime": {
     "end_time": "2025-09-15T20:02:37.739317Z",
     "start_time": "2025-09-15T20:02:37.734623Z"
    }
   },
   "source": [
    "import numpy as np"
   ],
   "outputs": [],
   "execution_count": 2
  },
  {
   "cell_type": "markdown",
   "metadata": {
    "id": "rAUKq1X_T8-x"
   },
   "source": [
    "You can check [`numpy documentation`](https://numpy.org/doc/stable/reference/generated/numpy.dot.html) or use the `help` function to understand more about any function"
   ]
  },
  {
   "cell_type": "markdown",
   "metadata": {
    "id": "l8nXutuLT8-v"
   },
   "source": [
    "## Before moving forward"
   ]
  },
  {
   "cell_type": "markdown",
   "metadata": {
    "id": "rTjgovn_T8-w"
   },
   "source": [
    "Explore Numpy `dot` function"
   ]
  },
  {
   "cell_type": "code",
   "metadata": {
    "id": "oMMDsL9PT8-w",
    "outputId": "61a57358-6268-4089-beb1-a7885e34a2b5",
    "jupyter": {
     "is_executing": true
    }
   },
   "source": [
    "v1 = [1,2,3,4]\n",
    "v2 = [3,2,5,4]\n",
    "\n",
    "# \"np\" is the alias for numpy library when imported like 'import numpy as np'\n",
    "# print the dot product of v1 and v2 using numpy\n",
    "# compare with the dot function you did in the last class\n",
    "print(np.dot(v1,v2))"
   ],
   "outputs": [],
   "execution_count": null
  },
  {
   "cell_type": "code",
   "execution_count": null,
   "metadata": {
    "id": "Rcy8zxYNT8-x"
   },
   "outputs": [],
   "source": [
    "help(np.dot)"
   ]
  },
  {
   "cell_type": "markdown",
   "metadata": {
    "id": "whwUIGmfT8-y"
   },
   "source": [
    "Explore Numpy functions `linalg.norm` to obtain the magnitude/norm of the vectors `v1` and `v2`"
   ]
  },
  {
   "cell_type": "code",
   "execution_count": null,
   "metadata": {
    "id": "sgBWAS7mT8-y"
   },
   "outputs": [],
   "source": [
    "# compare with the norm function you did in the last class"
   ]
  },
  {
   "cell_type": "markdown",
   "metadata": {
    "id": "5nrhNunST8-y"
   },
   "source": [
    "Consider the cosine similarity function we build from scrach last week:\n",
    "\n",
    "$$\n",
    "  cos(v1, v2) = \\frac{v1 . v2}{\\lVert v1 \\rVert \\times \\lVert v2 \\rVert}\n",
    "$$\n",
    "\n",
    "Explore Numpy functions `linalg.norm` e `dot` and **re-write the cosine function** below without using a `for` loop."
   ]
  },
  {
   "cell_type": "code",
   "execution_count": null,
   "metadata": {
    "id": "zi0Nhwm7T8-y"
   },
   "outputs": [],
   "source": []
  },
  {
   "cell_type": "markdown",
   "metadata": {
    "id": "PWyZV1fCT8-y"
   },
   "source": [
    "## Rectangular data\n",
    "\n",
    "A lot of the datasets we study in Data Science are tabular, like a spreadsheet or database table. This means that we have a  `n` and `m` columns.\n",
    "\n",
    "* A **column** in the table is commonly referred to as a **variable**.\n",
    "    * You may also see them refered as: attribute, input, predictor or feature\n",
    "* A **row** in the table is commonly referred to as a **record**.\n",
    "    * You may also see them refered as: case, example, instance, observation, pattern or sample\n",
    "\n",
    "\n",
    "<details>\n",
    "<p>\n",
    "\n",
    "> Rectangular data is essentially a two-dimensional matrix with rows indicating records and columns indicating variables\n",
    "> -- <cite>[Peter Bruce, Andrew Bruce @ Practical Statistics for Data Scientists][3]</cite>\n",
    "\n",
    "[3]: https://www.oreilly.com/library/view/practical-statistics-for/9781491952955/ch01.html\n",
    "\n",
    "</p>\n",
    "</details>\n",
    "\n",
    "What are independent and dependent variables?  \n",
    "\n",
    "<details>\n",
    "<p>\n",
    "    \n",
    "- An **independent variable** is the variable that is changed or controlled in a scientific experiment to test the effects on the dependent variable.  \n",
    "    \n",
    "- A **dependent variable** is the variable being tested and measured in a scientific experiment.\n",
    "    \n",
    "</p>\n",
    "</details>\n",
    "\n",
    "Very often what we want to do in data science is to explain how the independent variables can control the dependent variable.\n",
    "\n",
    "What other names are given to these variables?\n",
    "\n",
    "<details>\n",
    "<p>\n",
    "\n",
    "> an **independent variable** is sometimes called a \"predictor variable\", regressor, covariate, \"manipulated variable\", \"explanatory variable\", exposure variable (see reliability theory), \"risk factor\" (see medical statistics), \"feature\" (in machine learning and pattern recognition) or \"input variable\".\n",
    "> -- <cite>[Wikipedia][4]</cite>\n",
    "    \n",
    "> a **dependent variable** is sometimes called a \"response variable\", \"regressand\", \"criterion\", \"predicted variable\", \"measured variable\", \"explained variable\", \"experimental variable\", \"responding variable\", \"outcome variable\", \"output variable\", \"target\" or \"label\".\n",
    "> -- <cite>[Wikipedia][4]</cite>\n",
    "\n",
    "[4]: https://en.wikipedia.org/wiki/Dependent_and_independent_variables#Statistics_synonyms\n",
    "\n",
    "\n",
    "    \n",
    "</p>\n",
    "</details>"
   ]
  },
  {
   "cell_type": "markdown",
   "metadata": {
    "id": "mPF4T6HBT8-z"
   },
   "source": [
    "## Pandas"
   ]
  },
  {
   "cell_type": "code",
   "metadata": {
    "id": "qjdbh_VqT8-z",
    "ExecuteTime": {
     "end_time": "2025-09-15T20:01:35.741271Z",
     "start_time": "2025-09-15T20:01:10.466480Z"
    }
   },
   "source": [
    "import pandas as pd"
   ],
   "outputs": [],
   "execution_count": 1
  },
  {
   "cell_type": "markdown",
   "metadata": {
    "id": "6VXEaH6CT8-z"
   },
   "source": [
    "What is Pandas?\n",
    "\n",
    "<details open>\n",
    "<p>\n",
    "\n",
    "> Pandas is seriously a game changer when it comes to cleaning, transforming, manipulating and analyzing data. In simple terms, Pandas helps to clean the mess\n",
    "> -- <cite>[Admond Lee][1]</cite>\n",
    "\n",
    "[1]: https://towardsdatascience.com/why-and-how-to-use-pandas-with-large-data-9594dda2ea4c\n",
    "\n",
    "</p>\n",
    "</details>\n",
    "\n",
    "Have a look at the Pandas documentation\n",
    "\n",
    "<details open>\n",
    "<p>\n",
    "\n",
    "> `pandas` is a fast, powerful, flexible and easy to use open source data analysis and manipulation tool,\n",
    "built on top of the Python programming language.\n",
    "> -- <cite>[pandas library][2]</cite>\n",
    "\n",
    "[2]: https://pandas.pydata.org/\n",
    "\n",
    "</p>\n",
    "\n",
    "- API reference: https://pandas.pydata.org/docs/reference/index.html#api"
   ]
  },
  {
   "cell_type": "markdown",
   "metadata": {
    "id": "oHO1g74sT8-0"
   },
   "source": [
    "### Lets use Pandas to create a retangular dataset\n",
    "\n",
    "The DataFrame object is a 2-dimensional labeled data structure with columns of potentially different types. You can think of it like a spreadsheet or SQL table. It is generally the most commonly used pandas object.\n",
    "\n",
    "#### Constructing DataFrame\n",
    "\n",
    "A Pandas DataFrame can be constructed in a variety of ways.\n",
    "\n",
    "One of them is from a list of dicts:"
   ]
  },
  {
   "cell_type": "markdown",
   "metadata": {
    "id": "O_RXhB10T8-0"
   },
   "source": [
    "Let's create a DataFrame from a list of dictionaries. Each dictionary represents a record and the keys represent the variables.\n",
    "\n",
    "Desired DataFrame:\n",
    "\n",
    "```python\n",
    "     a\tb\n",
    "0\t0\t0\n",
    "1\t1\t2\n",
    "2\t2\t4\n",
    "```\n",
    "\n"
   ]
  },
  {
   "cell_type": "code",
   "metadata": {
    "id": "rF98016wT8-0",
    "outputId": "d3bd1b34-e1e4-4ef2-9690-b48fcbd427a6",
    "ExecuteTime": {
     "end_time": "2025-09-15T20:04:34.622219Z",
     "start_time": "2025-09-15T20:04:34.610775Z"
    }
   },
   "source": [
    "# create dataframe from a list of dictionaries to obtain the following output\n",
    "#    a  b\n",
    "# 0  0  0\n",
    "# 1  1  2\n",
    "# 2  2  4\n",
    "\n",
    "# what should the items in the list be to obtain the output above?\n",
    "data = [{'a':0 , 'b':0},{'a':1 , 'b':2},{'a':2 , 'b':4}]\n",
    "df = pd.DataFrame(data)\n",
    "\n",
    "df\n",
    "\n",
    "# use pd.DataFrame to create a dataframe from the \"data\""
   ],
   "outputs": [
    {
     "data": {
      "text/plain": [
       "   a  b\n",
       "0  0  0\n",
       "1  1  2\n",
       "2  2  4"
      ],
      "text/html": [
       "<div>\n",
       "<style scoped>\n",
       "    .dataframe tbody tr th:only-of-type {\n",
       "        vertical-align: middle;\n",
       "    }\n",
       "\n",
       "    .dataframe tbody tr th {\n",
       "        vertical-align: top;\n",
       "    }\n",
       "\n",
       "    .dataframe thead th {\n",
       "        text-align: right;\n",
       "    }\n",
       "</style>\n",
       "<table border=\"1\" class=\"dataframe\">\n",
       "  <thead>\n",
       "    <tr style=\"text-align: right;\">\n",
       "      <th></th>\n",
       "      <th>a</th>\n",
       "      <th>b</th>\n",
       "    </tr>\n",
       "  </thead>\n",
       "  <tbody>\n",
       "    <tr>\n",
       "      <th>0</th>\n",
       "      <td>0</td>\n",
       "      <td>0</td>\n",
       "    </tr>\n",
       "    <tr>\n",
       "      <th>1</th>\n",
       "      <td>1</td>\n",
       "      <td>2</td>\n",
       "    </tr>\n",
       "    <tr>\n",
       "      <th>2</th>\n",
       "      <td>2</td>\n",
       "      <td>4</td>\n",
       "    </tr>\n",
       "  </tbody>\n",
       "</table>\n",
       "</div>"
      ]
     },
     "execution_count": 3,
     "metadata": {},
     "output_type": "execute_result"
    }
   ],
   "execution_count": 3
  },
  {
   "cell_type": "markdown",
   "metadata": {
    "id": "lEIKhiJET8-0"
   },
   "source": [
    "Pandas creates tabular data structures called DataFrames and missing values are represented as `NaN` (**Not a Number**)\n",
    "- if you don't provide values for a column, pandas will fill it with `NaN`\n",
    "- Handling missing values is a big part of data cleaning and preparation process and defining strategies to deal with them are really important."
   ]
  },
  {
   "cell_type": "code",
   "metadata": {
    "id": "51nlD2j7T8-0",
    "ExecuteTime": {
     "end_time": "2025-09-15T20:08:14.813705Z",
     "start_time": "2025-09-15T20:08:14.808842Z"
    }
   },
   "source": [
    "df = pd.DataFrame([{'a': 1, 'b': 2}, {'b': 3, 'c': 4}])"
   ],
   "outputs": [],
   "execution_count": 4
  },
  {
   "cell_type": "code",
   "metadata": {
    "id": "vh1bboOHT8-1",
    "outputId": "bcba553d-d4f7-42a1-957f-693928cc0ef0",
    "ExecuteTime": {
     "end_time": "2025-09-15T20:10:58.001802Z",
     "start_time": "2025-09-15T20:10:57.992002Z"
    }
   },
   "source": "df",
   "outputs": [
    {
     "data": {
      "text/plain": [
       "     a  b    c\n",
       "0  1.0  2  NaN\n",
       "1  NaN  3  4.0"
      ],
      "text/html": [
       "<div>\n",
       "<style scoped>\n",
       "    .dataframe tbody tr th:only-of-type {\n",
       "        vertical-align: middle;\n",
       "    }\n",
       "\n",
       "    .dataframe tbody tr th {\n",
       "        vertical-align: top;\n",
       "    }\n",
       "\n",
       "    .dataframe thead th {\n",
       "        text-align: right;\n",
       "    }\n",
       "</style>\n",
       "<table border=\"1\" class=\"dataframe\">\n",
       "  <thead>\n",
       "    <tr style=\"text-align: right;\">\n",
       "      <th></th>\n",
       "      <th>a</th>\n",
       "      <th>b</th>\n",
       "      <th>c</th>\n",
       "    </tr>\n",
       "  </thead>\n",
       "  <tbody>\n",
       "    <tr>\n",
       "      <th>0</th>\n",
       "      <td>1.0</td>\n",
       "      <td>2</td>\n",
       "      <td>NaN</td>\n",
       "    </tr>\n",
       "    <tr>\n",
       "      <th>1</th>\n",
       "      <td>NaN</td>\n",
       "      <td>3</td>\n",
       "      <td>4.0</td>\n",
       "    </tr>\n",
       "  </tbody>\n",
       "</table>\n",
       "</div>"
      ]
     },
     "execution_count": 6,
     "metadata": {},
     "output_type": "execute_result"
    }
   ],
   "execution_count": 6
  },
  {
   "cell_type": "markdown",
   "metadata": {
    "id": "iscOEweKT8-1"
   },
   "source": [
    "A DataFrame object has has an `index` and a `column` attribute\n",
    "- `index` indicates the start, end (exclusive) and increment of the row indices"
   ]
  },
  {
   "cell_type": "code",
   "metadata": {
    "id": "PuBYec5HT8-1",
    "outputId": "1c7a0883-9f1a-4201-9666-1190ec03a97c",
    "ExecuteTime": {
     "end_time": "2025-09-15T20:17:43.938654Z",
     "start_time": "2025-09-15T20:17:43.934865Z"
    }
   },
   "source": "df.index",
   "outputs": [
    {
     "data": {
      "text/plain": [
       "RangeIndex(start=0, stop=2, step=1)"
      ]
     },
     "execution_count": 22,
     "metadata": {},
     "output_type": "execute_result"
    }
   ],
   "execution_count": 22
  },
  {
   "cell_type": "markdown",
   "metadata": {
    "id": "jo2PbHYoT8-1"
   },
   "source": [
    "- `columns` indicates the **column names** of the DataFrame and can be used to access columns"
   ]
  },
  {
   "cell_type": "code",
   "metadata": {
    "id": "2iN0IlBGT8-1",
    "ExecuteTime": {
     "end_time": "2025-09-15T20:17:36.954456Z",
     "start_time": "2025-09-15T20:17:36.949570Z"
    }
   },
   "source": "df.columns",
   "outputs": [
    {
     "data": {
      "text/plain": [
       "Index(['a', 'b', 'c'], dtype='object')"
      ]
     },
     "execution_count": 21,
     "metadata": {},
     "output_type": "execute_result"
    }
   ],
   "execution_count": 21
  },
  {
   "cell_type": "markdown",
   "metadata": {
    "id": "sLO-ShLZT8-2"
   },
   "source": [
    "**Casting to other data types** may help when working with those columns, try casting `df.columns` to a list"
   ]
  },
  {
   "cell_type": "code",
   "metadata": {
    "id": "hpmS_dO8T8-2",
    "outputId": "a49af329-7ac0-42eb-c47e-5b5e6d72202c",
    "ExecuteTime": {
     "end_time": "2025-09-15T20:18:48.426485Z",
     "start_time": "2025-09-15T20:18:48.422062Z"
    }
   },
   "source": [
    "df = list(df.columns)\n",
    "df"
   ],
   "outputs": [
    {
     "data": {
      "text/plain": [
       "['a', 'b', 'c']"
      ]
     },
     "execution_count": 26,
     "metadata": {},
     "output_type": "execute_result"
    }
   ],
   "execution_count": 26
  },
  {
   "cell_type": "markdown",
   "metadata": {
    "id": "pQ25yQz-T8-2"
   },
   "source": [
    "We can **rename** columns using the `rename` method\n",
    "\n",
    "- Note that the columns were defined by the dictionary keys\n",
    "- `inplace=True` will modify the DataFrame **in place**, otherwise a new DataFrame will be returned and the original will remain unchanged\n"
   ]
  },
  {
   "cell_type": "code",
   "metadata": {
    "id": "H41uUEX7T8-2",
    "ExecuteTime": {
     "end_time": "2025-09-15T20:23:20.266104Z",
     "start_time": "2025-09-15T20:23:20.261831Z"
    }
   },
   "source": [
    "# before:\n",
    "df = pd.DataFrame([{'a': 1, 'b': 2}, {'b': 3, 'c': 4}])"
   ],
   "outputs": [],
   "execution_count": 45
  },
  {
   "cell_type": "code",
   "metadata": {
    "id": "Vwe44XkoT8-2",
    "outputId": "2290b78e-23e1-452c-f666-bc42ffca1c64",
    "ExecuteTime": {
     "end_time": "2025-09-15T20:23:21.380272Z",
     "start_time": "2025-09-15T20:23:21.371224Z"
    }
   },
   "source": [
    "# after - use rename to rename the columns 'a' to 'data' and 'b' to 'science'\n",
    "df = df.rename(columns = {'a' : 'data', 'b' : 'science'})\n",
    "df"
   ],
   "outputs": [
    {
     "data": {
      "text/plain": [
       "   data  science    c\n",
       "0   1.0        2  NaN\n",
       "1   NaN        3  4.0"
      ],
      "text/html": [
       "<div>\n",
       "<style scoped>\n",
       "    .dataframe tbody tr th:only-of-type {\n",
       "        vertical-align: middle;\n",
       "    }\n",
       "\n",
       "    .dataframe tbody tr th {\n",
       "        vertical-align: top;\n",
       "    }\n",
       "\n",
       "    .dataframe thead th {\n",
       "        text-align: right;\n",
       "    }\n",
       "</style>\n",
       "<table border=\"1\" class=\"dataframe\">\n",
       "  <thead>\n",
       "    <tr style=\"text-align: right;\">\n",
       "      <th></th>\n",
       "      <th>data</th>\n",
       "      <th>science</th>\n",
       "      <th>c</th>\n",
       "    </tr>\n",
       "  </thead>\n",
       "  <tbody>\n",
       "    <tr>\n",
       "      <th>0</th>\n",
       "      <td>1.0</td>\n",
       "      <td>2</td>\n",
       "      <td>NaN</td>\n",
       "    </tr>\n",
       "    <tr>\n",
       "      <th>1</th>\n",
       "      <td>NaN</td>\n",
       "      <td>3</td>\n",
       "      <td>4.0</td>\n",
       "    </tr>\n",
       "  </tbody>\n",
       "</table>\n",
       "</div>"
      ]
     },
     "execution_count": 46,
     "metadata": {},
     "output_type": "execute_result"
    }
   ],
   "execution_count": 46
  },
  {
   "cell_type": "markdown",
   "metadata": {
    "id": "MXGMdRkUT8-2"
   },
   "source": [
    "#### Creating your own DataFrame\n",
    "\n",
    "Before learning more details and operations on DataFrames, lets create our own."
   ]
  },
  {
   "cell_type": "code",
   "metadata": {
    "id": "JzIK0bj-T8-3",
    "outputId": "20c5da1d-8253-4e1b-fd35-5bdf1ded60e0",
    "ExecuteTime": {
     "end_time": "2025-09-15T21:03:53.134944Z",
     "start_time": "2025-09-15T21:03:53.127519Z"
    }
   },
   "source": [
    "#       name\tshoe\theight\n",
    "#   0\tana\t    38  \t  168\n",
    "#   1\tbruno   39\t    170\n",
    "#   2\tcarlos\t42\t    174\n",
    "\n",
    "name_list = ['ana','bruno','carlos']\n",
    "shoe_list = [38,39,42]\n",
    "height_list = [168,170,174]\n",
    "gender_list = ['F','M','M']\n",
    "\n",
    "# we are going to create a dataframe from the lists above - what should be the \"keys\" and \"values\" of the dictionary?\n",
    "students_df = pd.DataFrame({'name':name_list, 'shoe' : shoe_list, 'height' : height_list})\n",
    "students_df"
   ],
   "outputs": [
    {
     "data": {
      "text/plain": [
       "     name  shoe  height\n",
       "0     ana    38     168\n",
       "1   bruno    39     170\n",
       "2  carlos    42     174"
      ],
      "text/html": [
       "<div>\n",
       "<style scoped>\n",
       "    .dataframe tbody tr th:only-of-type {\n",
       "        vertical-align: middle;\n",
       "    }\n",
       "\n",
       "    .dataframe tbody tr th {\n",
       "        vertical-align: top;\n",
       "    }\n",
       "\n",
       "    .dataframe thead th {\n",
       "        text-align: right;\n",
       "    }\n",
       "</style>\n",
       "<table border=\"1\" class=\"dataframe\">\n",
       "  <thead>\n",
       "    <tr style=\"text-align: right;\">\n",
       "      <th></th>\n",
       "      <th>name</th>\n",
       "      <th>shoe</th>\n",
       "      <th>height</th>\n",
       "    </tr>\n",
       "  </thead>\n",
       "  <tbody>\n",
       "    <tr>\n",
       "      <th>0</th>\n",
       "      <td>ana</td>\n",
       "      <td>38</td>\n",
       "      <td>168</td>\n",
       "    </tr>\n",
       "    <tr>\n",
       "      <th>1</th>\n",
       "      <td>bruno</td>\n",
       "      <td>39</td>\n",
       "      <td>170</td>\n",
       "    </tr>\n",
       "    <tr>\n",
       "      <th>2</th>\n",
       "      <td>carlos</td>\n",
       "      <td>42</td>\n",
       "      <td>174</td>\n",
       "    </tr>\n",
       "  </tbody>\n",
       "</table>\n",
       "</div>"
      ]
     },
     "execution_count": 108,
     "metadata": {},
     "output_type": "execute_result"
    }
   ],
   "execution_count": 108
  },
  {
   "cell_type": "markdown",
   "metadata": {
    "id": "t4FRVwMyT8-3"
   },
   "source": [
    "Print the `columns` of the DataFrame"
   ]
  },
  {
   "cell_type": "code",
   "metadata": {
    "id": "yvWC5kY2T8-3",
    "outputId": "0f87008e-94a4-43ff-8510-23fcad6edd5c",
    "ExecuteTime": {
     "end_time": "2025-09-15T20:28:49.041331Z",
     "start_time": "2025-09-15T20:28:49.036810Z"
    }
   },
   "source": "print(students_df.columns)",
   "outputs": [
    {
     "name": "stdout",
     "output_type": "stream",
     "text": [
      "Index(['name', 'shoe', 'height'], dtype='object')\n"
     ]
    }
   ],
   "execution_count": 56
  },
  {
   "cell_type": "markdown",
   "metadata": {
    "id": "GEPRmKXiT8-3"
   },
   "source": [
    "Print the `index` of the DataFrame"
   ]
  },
  {
   "cell_type": "code",
   "metadata": {
    "id": "ZrAaFy5BT8-3",
    "outputId": "96fbb36a-424a-4e79-8e88-4c718459ed55",
    "ExecuteTime": {
     "end_time": "2025-09-15T20:28:50.476073Z",
     "start_time": "2025-09-15T20:28:50.471757Z"
    }
   },
   "source": "print(students_df.index)",
   "outputs": [
    {
     "name": "stdout",
     "output_type": "stream",
     "text": [
      "RangeIndex(start=0, stop=3, step=1)\n"
     ]
    }
   ],
   "execution_count": 57
  },
  {
   "cell_type": "markdown",
   "metadata": {
    "id": "6REE85w7T8-4"
   },
   "source": [
    "We forgot the **gender data**. This is how we can add a new column to the DataFrame after it has been created"
   ]
  },
  {
   "cell_type": "code",
   "metadata": {
    "id": "h7JxRpHDT8-4",
    "outputId": "2189a2b9-a913-4dfd-c9d6-c72d90a674ed",
    "ExecuteTime": {
     "end_time": "2025-09-15T21:03:55.311737Z",
     "start_time": "2025-09-15T21:03:55.303009Z"
    }
   },
   "source": [
    "students_df['gender'] = gender_list\n",
    "students_df"
   ],
   "outputs": [
    {
     "data": {
      "text/plain": [
       "     name  shoe  height gender\n",
       "0     ana    38     168      F\n",
       "1   bruno    39     170      M\n",
       "2  carlos    42     174      M"
      ],
      "text/html": [
       "<div>\n",
       "<style scoped>\n",
       "    .dataframe tbody tr th:only-of-type {\n",
       "        vertical-align: middle;\n",
       "    }\n",
       "\n",
       "    .dataframe tbody tr th {\n",
       "        vertical-align: top;\n",
       "    }\n",
       "\n",
       "    .dataframe thead th {\n",
       "        text-align: right;\n",
       "    }\n",
       "</style>\n",
       "<table border=\"1\" class=\"dataframe\">\n",
       "  <thead>\n",
       "    <tr style=\"text-align: right;\">\n",
       "      <th></th>\n",
       "      <th>name</th>\n",
       "      <th>shoe</th>\n",
       "      <th>height</th>\n",
       "      <th>gender</th>\n",
       "    </tr>\n",
       "  </thead>\n",
       "  <tbody>\n",
       "    <tr>\n",
       "      <th>0</th>\n",
       "      <td>ana</td>\n",
       "      <td>38</td>\n",
       "      <td>168</td>\n",
       "      <td>F</td>\n",
       "    </tr>\n",
       "    <tr>\n",
       "      <th>1</th>\n",
       "      <td>bruno</td>\n",
       "      <td>39</td>\n",
       "      <td>170</td>\n",
       "      <td>M</td>\n",
       "    </tr>\n",
       "    <tr>\n",
       "      <th>2</th>\n",
       "      <td>carlos</td>\n",
       "      <td>42</td>\n",
       "      <td>174</td>\n",
       "      <td>M</td>\n",
       "    </tr>\n",
       "  </tbody>\n",
       "</table>\n",
       "</div>"
      ]
     },
     "execution_count": 109,
     "metadata": {},
     "output_type": "execute_result"
    }
   ],
   "execution_count": 109
  },
  {
   "cell_type": "markdown",
   "metadata": {
    "id": "evS5SOAOT8-4"
   },
   "source": [
    "We may have also introduced a wrong value. We can **access** it or **change** it using `loc`"
   ]
  },
  {
   "cell_type": "code",
   "metadata": {
    "id": "KO6-IkXjT8-4",
    "outputId": "488987d2-f816-44b0-a9a7-024545c2641c",
    "ExecuteTime": {
     "end_time": "2025-09-15T20:31:12.232598Z",
     "start_time": "2025-09-15T20:31:12.227031Z"
    }
   },
   "source": "students_df.loc[2]",
   "outputs": [
    {
     "data": {
      "text/plain": [
       "name      carlos\n",
       "shoe          42\n",
       "height       174\n",
       "gender         M\n",
       "Name: 2, dtype: object"
      ]
     },
     "execution_count": 62,
     "metadata": {},
     "output_type": "execute_result"
    }
   ],
   "execution_count": 62
  },
  {
   "cell_type": "markdown",
   "metadata": {
    "id": "KHP3pLxiT8-4"
   },
   "source": [
    "We can also use the `iloc` method to access data by **position**\n",
    "- use `iloc` to access the last row of the DataFrame"
   ]
  },
  {
   "cell_type": "code",
   "metadata": {
    "id": "HC0JugKPT8-4",
    "ExecuteTime": {
     "end_time": "2025-09-15T20:32:19.015481Z",
     "start_time": "2025-09-15T20:32:19.010505Z"
    }
   },
   "source": "students_df.iloc[-1,-1]",
   "outputs": [
    {
     "data": {
      "text/plain": [
       "'M'"
      ]
     },
     "execution_count": 67,
     "metadata": {},
     "output_type": "execute_result"
    }
   ],
   "execution_count": 67
  },
  {
   "cell_type": "markdown",
   "metadata": {
    "id": "dOKMZTzkT8-4"
   },
   "source": [
    "- Use `iloc` to access the last element of the last column of the DataFrame\n",
    "    \n",
    "    - **Tip**: the DataFrame is matrix-like, so you can use the same indexing as you would use in a matrix (even negative indices work)"
   ]
  },
  {
   "cell_type": "code",
   "metadata": {
    "id": "xhjRtVTtT8-5",
    "ExecuteTime": {
     "end_time": "2025-09-15T20:32:32.117283Z",
     "start_time": "2025-09-15T20:32:32.110924Z"
    }
   },
   "source": "students_df.iloc[-1,-1]",
   "outputs": [
    {
     "data": {
      "text/plain": [
       "'M'"
      ]
     },
     "execution_count": 68,
     "metadata": {},
     "output_type": "execute_result"
    }
   ],
   "execution_count": 68
  },
  {
   "cell_type": "markdown",
   "metadata": {
    "id": "rOdZHpWFT8-5"
   },
   "source": [
    "## Write and Read a csv file\n",
    "\n",
    "We can use Pandas to perform both operations.\n",
    "Run the cell below and check on your folder if the file was created."
   ]
  },
  {
   "cell_type": "code",
   "metadata": {
    "id": "pRQrk-9AT8-5",
    "ExecuteTime": {
     "end_time": "2025-09-15T20:34:06.030903Z",
     "start_time": "2025-09-15T20:34:06.022620Z"
    }
   },
   "source": [
    "# write a DataFrame as a csv file\n",
    "students_df.to_csv('students_df.csv', index=False)"
   ],
   "outputs": [],
   "execution_count": 69
  },
  {
   "cell_type": "markdown",
   "metadata": {
    "id": "IdAlBWfVT8-5"
   },
   "source": [
    "Read a csv file into a DataFrame - by **default**, `read_csv` assumes that the **delimiter is a comma**"
   ]
  },
  {
   "cell_type": "code",
   "metadata": {
    "id": "nv9ogSJLT8-5",
    "ExecuteTime": {
     "end_time": "2025-09-15T20:38:20.274140Z",
     "start_time": "2025-09-15T20:38:20.264407Z"
    }
   },
   "source": [
    "# read the csv file into students_df2\n",
    "students_df2 =pd.read_csv('students.csv')\n",
    "students_df2"
   ],
   "outputs": [
    {
     "data": {
      "text/plain": [
       "   Unnamed: 0     name  shoe  height\n",
       "0           0   Isabel    39     175\n",
       "1           1     Ines    39     161\n",
       "2           2  Ricardo    40     168\n",
       "3           3  Rodrigo    40     170\n",
       "4           4     Tome    45     183\n",
       "5           5    Sofia    39     168"
      ],
      "text/html": [
       "<div>\n",
       "<style scoped>\n",
       "    .dataframe tbody tr th:only-of-type {\n",
       "        vertical-align: middle;\n",
       "    }\n",
       "\n",
       "    .dataframe tbody tr th {\n",
       "        vertical-align: top;\n",
       "    }\n",
       "\n",
       "    .dataframe thead th {\n",
       "        text-align: right;\n",
       "    }\n",
       "</style>\n",
       "<table border=\"1\" class=\"dataframe\">\n",
       "  <thead>\n",
       "    <tr style=\"text-align: right;\">\n",
       "      <th></th>\n",
       "      <th>Unnamed: 0</th>\n",
       "      <th>name</th>\n",
       "      <th>shoe</th>\n",
       "      <th>height</th>\n",
       "    </tr>\n",
       "  </thead>\n",
       "  <tbody>\n",
       "    <tr>\n",
       "      <th>0</th>\n",
       "      <td>0</td>\n",
       "      <td>Isabel</td>\n",
       "      <td>39</td>\n",
       "      <td>175</td>\n",
       "    </tr>\n",
       "    <tr>\n",
       "      <th>1</th>\n",
       "      <td>1</td>\n",
       "      <td>Ines</td>\n",
       "      <td>39</td>\n",
       "      <td>161</td>\n",
       "    </tr>\n",
       "    <tr>\n",
       "      <th>2</th>\n",
       "      <td>2</td>\n",
       "      <td>Ricardo</td>\n",
       "      <td>40</td>\n",
       "      <td>168</td>\n",
       "    </tr>\n",
       "    <tr>\n",
       "      <th>3</th>\n",
       "      <td>3</td>\n",
       "      <td>Rodrigo</td>\n",
       "      <td>40</td>\n",
       "      <td>170</td>\n",
       "    </tr>\n",
       "    <tr>\n",
       "      <th>4</th>\n",
       "      <td>4</td>\n",
       "      <td>Tome</td>\n",
       "      <td>45</td>\n",
       "      <td>183</td>\n",
       "    </tr>\n",
       "    <tr>\n",
       "      <th>5</th>\n",
       "      <td>5</td>\n",
       "      <td>Sofia</td>\n",
       "      <td>39</td>\n",
       "      <td>168</td>\n",
       "    </tr>\n",
       "  </tbody>\n",
       "</table>\n",
       "</div>"
      ]
     },
     "execution_count": 72,
     "metadata": {},
     "output_type": "execute_result"
    }
   ],
   "execution_count": 72
  },
  {
   "cell_type": "markdown",
   "metadata": {
    "id": "Cr0SXgHkT8-5"
   },
   "source": [
    "Let's check if `students_df` is equal to `students_df2` using `.equals` method"
   ]
  },
  {
   "cell_type": "code",
   "metadata": {
    "id": "Gii4H15ZT8-5",
    "ExecuteTime": {
     "end_time": "2025-09-15T20:38:22.833487Z",
     "start_time": "2025-09-15T20:38:22.828356Z"
    }
   },
   "source": "students_df.equals(students_df2)",
   "outputs": [
    {
     "data": {
      "text/plain": [
       "False"
      ]
     },
     "execution_count": 73,
     "metadata": {},
     "output_type": "execute_result"
    }
   ],
   "execution_count": 73
  },
  {
   "cell_type": "markdown",
   "metadata": {
    "id": "kc4hIddrT8-5"
   },
   "source": [
    "When saving a DataFrame to a csv file, we can specify the `index` (`True` | `False`)"
   ]
  },
  {
   "cell_type": "markdown",
   "metadata": {
    "id": "MhCml9HDT8-5"
   },
   "source": [
    "## Operations on pandas DataFrames\n",
    "\n",
    "In this section you will learn about some DataFrame methods like `head` and `tail`.\n",
    "\n",
    "### Subset of rows (records)"
   ]
  },
  {
   "cell_type": "markdown",
   "metadata": {
    "id": "Jajs1HwcT8-6"
   },
   "source": [
    "#### Select the first n rows"
   ]
  },
  {
   "cell_type": "code",
   "metadata": {
    "id": "p0boa8rYT8-6",
    "outputId": "b5b20bc6-d888-419d-bc55-59e09fc387a3",
    "ExecuteTime": {
     "end_time": "2025-09-15T20:39:10.651525Z",
     "start_time": "2025-09-15T20:39:10.643119Z"
    }
   },
   "source": "students_df.head(2)",
   "outputs": [
    {
     "data": {
      "text/plain": [
       "    name  shoe  height gender\n",
       "0    ana    38     168      F\n",
       "1  bruno    39     170      M"
      ],
      "text/html": [
       "<div>\n",
       "<style scoped>\n",
       "    .dataframe tbody tr th:only-of-type {\n",
       "        vertical-align: middle;\n",
       "    }\n",
       "\n",
       "    .dataframe tbody tr th {\n",
       "        vertical-align: top;\n",
       "    }\n",
       "\n",
       "    .dataframe thead th {\n",
       "        text-align: right;\n",
       "    }\n",
       "</style>\n",
       "<table border=\"1\" class=\"dataframe\">\n",
       "  <thead>\n",
       "    <tr style=\"text-align: right;\">\n",
       "      <th></th>\n",
       "      <th>name</th>\n",
       "      <th>shoe</th>\n",
       "      <th>height</th>\n",
       "      <th>gender</th>\n",
       "    </tr>\n",
       "  </thead>\n",
       "  <tbody>\n",
       "    <tr>\n",
       "      <th>0</th>\n",
       "      <td>ana</td>\n",
       "      <td>38</td>\n",
       "      <td>168</td>\n",
       "      <td>F</td>\n",
       "    </tr>\n",
       "    <tr>\n",
       "      <th>1</th>\n",
       "      <td>bruno</td>\n",
       "      <td>39</td>\n",
       "      <td>170</td>\n",
       "      <td>M</td>\n",
       "    </tr>\n",
       "  </tbody>\n",
       "</table>\n",
       "</div>"
      ]
     },
     "execution_count": 75,
     "metadata": {},
     "output_type": "execute_result"
    }
   ],
   "execution_count": 75
  },
  {
   "cell_type": "markdown",
   "metadata": {
    "id": "r6mFLwB_T8-6"
   },
   "source": [
    "#### Select the last rows"
   ]
  },
  {
   "cell_type": "code",
   "metadata": {
    "id": "jQ1zj4AtT8-6",
    "outputId": "2c9ff5f7-bcea-4009-8d12-3a00a06a0ee8",
    "ExecuteTime": {
     "end_time": "2025-09-15T20:39:24.993997Z",
     "start_time": "2025-09-15T20:39:24.985721Z"
    }
   },
   "source": "students_df.tail(2)",
   "outputs": [
    {
     "data": {
      "text/plain": [
       "     name  shoe  height gender\n",
       "1   bruno    39     170      M\n",
       "2  carlos    42     174      M"
      ],
      "text/html": [
       "<div>\n",
       "<style scoped>\n",
       "    .dataframe tbody tr th:only-of-type {\n",
       "        vertical-align: middle;\n",
       "    }\n",
       "\n",
       "    .dataframe tbody tr th {\n",
       "        vertical-align: top;\n",
       "    }\n",
       "\n",
       "    .dataframe thead th {\n",
       "        text-align: right;\n",
       "    }\n",
       "</style>\n",
       "<table border=\"1\" class=\"dataframe\">\n",
       "  <thead>\n",
       "    <tr style=\"text-align: right;\">\n",
       "      <th></th>\n",
       "      <th>name</th>\n",
       "      <th>shoe</th>\n",
       "      <th>height</th>\n",
       "      <th>gender</th>\n",
       "    </tr>\n",
       "  </thead>\n",
       "  <tbody>\n",
       "    <tr>\n",
       "      <th>1</th>\n",
       "      <td>bruno</td>\n",
       "      <td>39</td>\n",
       "      <td>170</td>\n",
       "      <td>M</td>\n",
       "    </tr>\n",
       "    <tr>\n",
       "      <th>2</th>\n",
       "      <td>carlos</td>\n",
       "      <td>42</td>\n",
       "      <td>174</td>\n",
       "      <td>M</td>\n",
       "    </tr>\n",
       "  </tbody>\n",
       "</table>\n",
       "</div>"
      ]
     },
     "execution_count": 76,
     "metadata": {},
     "output_type": "execute_result"
    }
   ],
   "execution_count": 76
  },
  {
   "cell_type": "markdown",
   "metadata": {
    "id": "9UnQ_UAvT8-6"
   },
   "source": [
    "#### Get a random sample of n rows"
   ]
  },
  {
   "cell_type": "code",
   "metadata": {
    "id": "HdrAoRXMT8-6",
    "outputId": "47be4f40-f935-4b14-ef6f-ddf3aeed3929",
    "ExecuteTime": {
     "end_time": "2025-09-15T20:39:45.649873Z",
     "start_time": "2025-09-15T20:39:45.641447Z"
    }
   },
   "source": "students_df.sample(2)",
   "outputs": [
    {
     "data": {
      "text/plain": [
       "     name  shoe  height gender\n",
       "1   bruno    39     170      M\n",
       "2  carlos    42     174      M"
      ],
      "text/html": [
       "<div>\n",
       "<style scoped>\n",
       "    .dataframe tbody tr th:only-of-type {\n",
       "        vertical-align: middle;\n",
       "    }\n",
       "\n",
       "    .dataframe tbody tr th {\n",
       "        vertical-align: top;\n",
       "    }\n",
       "\n",
       "    .dataframe thead th {\n",
       "        text-align: right;\n",
       "    }\n",
       "</style>\n",
       "<table border=\"1\" class=\"dataframe\">\n",
       "  <thead>\n",
       "    <tr style=\"text-align: right;\">\n",
       "      <th></th>\n",
       "      <th>name</th>\n",
       "      <th>shoe</th>\n",
       "      <th>height</th>\n",
       "      <th>gender</th>\n",
       "    </tr>\n",
       "  </thead>\n",
       "  <tbody>\n",
       "    <tr>\n",
       "      <th>1</th>\n",
       "      <td>bruno</td>\n",
       "      <td>39</td>\n",
       "      <td>170</td>\n",
       "      <td>M</td>\n",
       "    </tr>\n",
       "    <tr>\n",
       "      <th>2</th>\n",
       "      <td>carlos</td>\n",
       "      <td>42</td>\n",
       "      <td>174</td>\n",
       "      <td>M</td>\n",
       "    </tr>\n",
       "  </tbody>\n",
       "</table>\n",
       "</div>"
      ]
     },
     "execution_count": 80,
     "metadata": {},
     "output_type": "execute_result"
    }
   ],
   "execution_count": 80
  },
  {
   "cell_type": "markdown",
   "metadata": {
    "id": "DBjJk3-fT8-6"
   },
   "source": [
    "#### Select rows by position\n",
    "- select the **first and second rows**"
   ]
  },
  {
   "cell_type": "code",
   "metadata": {
    "id": "m_vDb2itT8-6",
    "outputId": "5ad47d0b-f141-4740-e5e8-2669d18c6c65",
    "ExecuteTime": {
     "end_time": "2025-09-15T20:40:59.440239Z",
     "start_time": "2025-09-15T20:40:59.432789Z"
    }
   },
   "source": "students_df.iloc[0:2]",
   "outputs": [
    {
     "data": {
      "text/plain": [
       "    name  shoe  height gender\n",
       "0    ana    38     168      F\n",
       "1  bruno    39     170      M"
      ],
      "text/html": [
       "<div>\n",
       "<style scoped>\n",
       "    .dataframe tbody tr th:only-of-type {\n",
       "        vertical-align: middle;\n",
       "    }\n",
       "\n",
       "    .dataframe tbody tr th {\n",
       "        vertical-align: top;\n",
       "    }\n",
       "\n",
       "    .dataframe thead th {\n",
       "        text-align: right;\n",
       "    }\n",
       "</style>\n",
       "<table border=\"1\" class=\"dataframe\">\n",
       "  <thead>\n",
       "    <tr style=\"text-align: right;\">\n",
       "      <th></th>\n",
       "      <th>name</th>\n",
       "      <th>shoe</th>\n",
       "      <th>height</th>\n",
       "      <th>gender</th>\n",
       "    </tr>\n",
       "  </thead>\n",
       "  <tbody>\n",
       "    <tr>\n",
       "      <th>0</th>\n",
       "      <td>ana</td>\n",
       "      <td>38</td>\n",
       "      <td>168</td>\n",
       "      <td>F</td>\n",
       "    </tr>\n",
       "    <tr>\n",
       "      <th>1</th>\n",
       "      <td>bruno</td>\n",
       "      <td>39</td>\n",
       "      <td>170</td>\n",
       "      <td>M</td>\n",
       "    </tr>\n",
       "  </tbody>\n",
       "</table>\n",
       "</div>"
      ]
     },
     "execution_count": 82,
     "metadata": {},
     "output_type": "execute_result"
    }
   ],
   "execution_count": 82
  },
  {
   "cell_type": "markdown",
   "metadata": {
    "id": "IvzQFC-nT8-6"
   },
   "source": [
    "#### Select rows that meet logical criteria\n",
    "- select all students with `height` of **170cm or higher**"
   ]
  },
  {
   "cell_type": "code",
   "metadata": {
    "id": "4__N53trT8-6",
    "outputId": "046bcf4f-cd1f-4414-f0d0-b4799c4aa30f",
    "ExecuteTime": {
     "end_time": "2025-09-15T20:47:08.330262Z",
     "start_time": "2025-09-15T20:47:08.323457Z"
    }
   },
   "source": [
    "tallers = students_df[students_df['height'] > 169]\n",
    "tallers"
   ],
   "outputs": [
    {
     "data": {
      "text/plain": [
       "     name  shoe  height\n",
       "1   bruno    39     170\n",
       "2  carlos    42     174"
      ],
      "text/html": [
       "<div>\n",
       "<style scoped>\n",
       "    .dataframe tbody tr th:only-of-type {\n",
       "        vertical-align: middle;\n",
       "    }\n",
       "\n",
       "    .dataframe tbody tr th {\n",
       "        vertical-align: top;\n",
       "    }\n",
       "\n",
       "    .dataframe thead th {\n",
       "        text-align: right;\n",
       "    }\n",
       "</style>\n",
       "<table border=\"1\" class=\"dataframe\">\n",
       "  <thead>\n",
       "    <tr style=\"text-align: right;\">\n",
       "      <th></th>\n",
       "      <th>name</th>\n",
       "      <th>shoe</th>\n",
       "      <th>height</th>\n",
       "    </tr>\n",
       "  </thead>\n",
       "  <tbody>\n",
       "    <tr>\n",
       "      <th>1</th>\n",
       "      <td>bruno</td>\n",
       "      <td>39</td>\n",
       "      <td>170</td>\n",
       "    </tr>\n",
       "    <tr>\n",
       "      <th>2</th>\n",
       "      <td>carlos</td>\n",
       "      <td>42</td>\n",
       "      <td>174</td>\n",
       "    </tr>\n",
       "  </tbody>\n",
       "</table>\n",
       "</div>"
      ]
     },
     "execution_count": 89,
     "metadata": {},
     "output_type": "execute_result"
    }
   ],
   "execution_count": 89
  },
  {
   "cell_type": "markdown",
   "metadata": {
    "id": "DNBu5KsOT8-7"
   },
   "source": [
    "#### Select rows based on multiple conditions\n",
    "- select all `male` students with `height` of **172cm or higher**"
   ]
  },
  {
   "cell_type": "code",
   "metadata": {
    "id": "bvJdpGJVT8-7",
    "outputId": "721e33bd-f6d6-4098-d7bf-0e94e43d253a",
    "ExecuteTime": {
     "end_time": "2025-09-15T20:50:02.661204Z",
     "start_time": "2025-09-15T20:50:02.654069Z"
    }
   },
   "source": [
    "males = students_df[(students_df['gender'] == 'M') & (students_df['height'] >=172)]\n",
    "males"
   ],
   "outputs": [
    {
     "data": {
      "text/plain": [
       "     name  shoe  height gender\n",
       "2  carlos    42     174      M"
      ],
      "text/html": [
       "<div>\n",
       "<style scoped>\n",
       "    .dataframe tbody tr th:only-of-type {\n",
       "        vertical-align: middle;\n",
       "    }\n",
       "\n",
       "    .dataframe tbody tr th {\n",
       "        vertical-align: top;\n",
       "    }\n",
       "\n",
       "    .dataframe thead th {\n",
       "        text-align: right;\n",
       "    }\n",
       "</style>\n",
       "<table border=\"1\" class=\"dataframe\">\n",
       "  <thead>\n",
       "    <tr style=\"text-align: right;\">\n",
       "      <th></th>\n",
       "      <th>name</th>\n",
       "      <th>shoe</th>\n",
       "      <th>height</th>\n",
       "      <th>gender</th>\n",
       "    </tr>\n",
       "  </thead>\n",
       "  <tbody>\n",
       "    <tr>\n",
       "      <th>2</th>\n",
       "      <td>carlos</td>\n",
       "      <td>42</td>\n",
       "      <td>174</td>\n",
       "      <td>M</td>\n",
       "    </tr>\n",
       "  </tbody>\n",
       "</table>\n",
       "</div>"
      ]
     },
     "execution_count": 96,
     "metadata": {},
     "output_type": "execute_result"
    }
   ],
   "execution_count": 96
  },
  {
   "cell_type": "markdown",
   "metadata": {
    "id": "zpRMEdb6T8-7"
   },
   "source": [
    "- select all `female` students with `height` of **172cm or higher**"
   ]
  },
  {
   "cell_type": "code",
   "metadata": {
    "id": "4__C5_ogT8-7",
    "outputId": "b5bee082-d2a0-4ff8-c1b0-621cc1d9eb25",
    "ExecuteTime": {
     "end_time": "2025-09-15T20:50:27.232545Z",
     "start_time": "2025-09-15T20:50:27.223796Z"
    }
   },
   "source": [
    "females = students_df[(students_df['gender'] == 'F') & (students_df['height'] >=172)]\n",
    "females"
   ],
   "outputs": [
    {
     "data": {
      "text/plain": [
       "Empty DataFrame\n",
       "Columns: [name, shoe, height, gender]\n",
       "Index: []"
      ],
      "text/html": [
       "<div>\n",
       "<style scoped>\n",
       "    .dataframe tbody tr th:only-of-type {\n",
       "        vertical-align: middle;\n",
       "    }\n",
       "\n",
       "    .dataframe tbody tr th {\n",
       "        vertical-align: top;\n",
       "    }\n",
       "\n",
       "    .dataframe thead th {\n",
       "        text-align: right;\n",
       "    }\n",
       "</style>\n",
       "<table border=\"1\" class=\"dataframe\">\n",
       "  <thead>\n",
       "    <tr style=\"text-align: right;\">\n",
       "      <th></th>\n",
       "      <th>name</th>\n",
       "      <th>shoe</th>\n",
       "      <th>height</th>\n",
       "      <th>gender</th>\n",
       "    </tr>\n",
       "  </thead>\n",
       "  <tbody>\n",
       "  </tbody>\n",
       "</table>\n",
       "</div>"
      ]
     },
     "execution_count": 97,
     "metadata": {},
     "output_type": "execute_result"
    }
   ],
   "execution_count": 97
  },
  {
   "cell_type": "markdown",
   "metadata": {
    "id": "Fa2M4UT3T8-7"
   },
   "source": [
    "### Subset of columns (variables)\n",
    "\n",
    "#### Select columns by name"
   ]
  },
  {
   "cell_type": "code",
   "metadata": {
    "id": "N5T_aMoBT8-7",
    "outputId": "ff4418e2-bc39-4508-e8fa-8811948be252",
    "ExecuteTime": {
     "end_time": "2025-09-15T20:51:13.427057Z",
     "start_time": "2025-09-15T20:51:13.421988Z"
    }
   },
   "source": "students_df['name']",
   "outputs": [
    {
     "data": {
      "text/plain": [
       "0       ana\n",
       "1     bruno\n",
       "2    carlos\n",
       "Name: name, dtype: object"
      ]
     },
     "execution_count": 99,
     "metadata": {},
     "output_type": "execute_result"
    }
   ],
   "execution_count": 99
  },
  {
   "cell_type": "markdown",
   "metadata": {
    "id": "LJyYXpj2T8-7"
   },
   "source": [
    "Select subset of columns `name` and `gender`"
   ]
  },
  {
   "cell_type": "code",
   "metadata": {
    "id": "OaueZAGiT8-7",
    "outputId": "b5daf545-e3b1-4cb4-f1e1-7848d1db4254",
    "scrolled": true,
    "ExecuteTime": {
     "end_time": "2025-09-15T20:53:40.991400Z",
     "start_time": "2025-09-15T20:53:40.982630Z"
    }
   },
   "source": [
    "df1 = students_df[['name','gender']]\n",
    "df1"
   ],
   "outputs": [
    {
     "data": {
      "text/plain": [
       "     name gender\n",
       "0     ana      F\n",
       "1   bruno      M\n",
       "2  carlos      M"
      ],
      "text/html": [
       "<div>\n",
       "<style scoped>\n",
       "    .dataframe tbody tr th:only-of-type {\n",
       "        vertical-align: middle;\n",
       "    }\n",
       "\n",
       "    .dataframe tbody tr th {\n",
       "        vertical-align: top;\n",
       "    }\n",
       "\n",
       "    .dataframe thead th {\n",
       "        text-align: right;\n",
       "    }\n",
       "</style>\n",
       "<table border=\"1\" class=\"dataframe\">\n",
       "  <thead>\n",
       "    <tr style=\"text-align: right;\">\n",
       "      <th></th>\n",
       "      <th>name</th>\n",
       "      <th>gender</th>\n",
       "    </tr>\n",
       "  </thead>\n",
       "  <tbody>\n",
       "    <tr>\n",
       "      <th>0</th>\n",
       "      <td>ana</td>\n",
       "      <td>F</td>\n",
       "    </tr>\n",
       "    <tr>\n",
       "      <th>1</th>\n",
       "      <td>bruno</td>\n",
       "      <td>M</td>\n",
       "    </tr>\n",
       "    <tr>\n",
       "      <th>2</th>\n",
       "      <td>carlos</td>\n",
       "      <td>M</td>\n",
       "    </tr>\n",
       "  </tbody>\n",
       "</table>\n",
       "</div>"
      ]
     },
     "execution_count": 101,
     "metadata": {},
     "output_type": "execute_result"
    }
   ],
   "execution_count": 101
  },
  {
   "cell_type": "markdown",
   "metadata": {
    "id": "9rZgt4UbT8-7"
   },
   "source": [
    "#### Select columns by position\n",
    "Using `iloc[rows, columns]` to select\n",
    "- select the **first and third columns** of the dataframe"
   ]
  },
  {
   "cell_type": "code",
   "metadata": {
    "id": "vCwJCIdkT8-8",
    "outputId": "8d98ef45-64a9-429c-989c-de9bf16e516e",
    "ExecuteTime": {
     "end_time": "2025-09-15T20:58:49.993003Z",
     "start_time": "2025-09-15T20:58:49.985411Z"
    }
   },
   "source": "students_df.iloc[:,0:4:2]",
   "outputs": [
    {
     "data": {
      "text/plain": [
       "     name  height\n",
       "0     ana     168\n",
       "1   bruno     170\n",
       "2  carlos     174"
      ],
      "text/html": [
       "<div>\n",
       "<style scoped>\n",
       "    .dataframe tbody tr th:only-of-type {\n",
       "        vertical-align: middle;\n",
       "    }\n",
       "\n",
       "    .dataframe tbody tr th {\n",
       "        vertical-align: top;\n",
       "    }\n",
       "\n",
       "    .dataframe thead th {\n",
       "        text-align: right;\n",
       "    }\n",
       "</style>\n",
       "<table border=\"1\" class=\"dataframe\">\n",
       "  <thead>\n",
       "    <tr style=\"text-align: right;\">\n",
       "      <th></th>\n",
       "      <th>name</th>\n",
       "      <th>height</th>\n",
       "    </tr>\n",
       "  </thead>\n",
       "  <tbody>\n",
       "    <tr>\n",
       "      <th>0</th>\n",
       "      <td>ana</td>\n",
       "      <td>168</td>\n",
       "    </tr>\n",
       "    <tr>\n",
       "      <th>1</th>\n",
       "      <td>bruno</td>\n",
       "      <td>170</td>\n",
       "    </tr>\n",
       "    <tr>\n",
       "      <th>2</th>\n",
       "      <td>carlos</td>\n",
       "      <td>174</td>\n",
       "    </tr>\n",
       "  </tbody>\n",
       "</table>\n",
       "</div>"
      ]
     },
     "execution_count": 102,
     "metadata": {},
     "output_type": "execute_result"
    }
   ],
   "execution_count": 102
  },
  {
   "cell_type": "markdown",
   "metadata": {
    "id": "O9C0m170T8-8"
   },
   "source": [
    "### Subset of both rows and columns\n",
    "- select the rows where the `shoe` size is **greater than 40** and **only** the columns `name` and `shoe`"
   ]
  },
  {
   "cell_type": "code",
   "metadata": {
    "id": "sGfdyJqRT8-8",
    "outputId": "ea599faf-d3cb-4e79-c9f6-9d7ac625bd97",
    "ExecuteTime": {
     "end_time": "2025-09-15T21:04:33.325348Z",
     "start_time": "2025-09-15T21:04:33.316667Z"
    }
   },
   "source": [
    "df2 = students_df.loc[students_df['shoe'] > 40, ['name', 'shoe']]\n",
    "df2\n"
   ],
   "outputs": [
    {
     "data": {
      "text/plain": [
       "     name  shoe\n",
       "2  carlos    42"
      ],
      "text/html": [
       "<div>\n",
       "<style scoped>\n",
       "    .dataframe tbody tr th:only-of-type {\n",
       "        vertical-align: middle;\n",
       "    }\n",
       "\n",
       "    .dataframe tbody tr th {\n",
       "        vertical-align: top;\n",
       "    }\n",
       "\n",
       "    .dataframe thead th {\n",
       "        text-align: right;\n",
       "    }\n",
       "</style>\n",
       "<table border=\"1\" class=\"dataframe\">\n",
       "  <thead>\n",
       "    <tr style=\"text-align: right;\">\n",
       "      <th></th>\n",
       "      <th>name</th>\n",
       "      <th>shoe</th>\n",
       "    </tr>\n",
       "  </thead>\n",
       "  <tbody>\n",
       "    <tr>\n",
       "      <th>2</th>\n",
       "      <td>carlos</td>\n",
       "      <td>42</td>\n",
       "    </tr>\n",
       "  </tbody>\n",
       "</table>\n",
       "</div>"
      ]
     },
     "execution_count": 111,
     "metadata": {},
     "output_type": "execute_result"
    }
   ],
   "execution_count": 111
  },
  {
   "cell_type": "markdown",
   "metadata": {
    "id": "jebiQCCXT8-8"
   },
   "source": [
    "### Summing Up\n",
    "\n",
    "* When selecting subsets of data, square brackets `[]` are used.\n",
    "* Inside these brackets, you can use a single column/row label, a list of column/row labels, a slice of labels, a conditional expression or a column.\n",
    "* Select specific rows and/or columns using **loc** when using the row and column names.\n",
    "* Select specific rows and/or columns using **iloc** when using the positions in the table.\n",
    "* You can assign new values to a selection based on **loc/iloc**.\n",
    "\n",
    "[This](https://pandas.pydata.org/Pandas_Cheat_Sheet.pdf) Pandas Cheat Sheet might come in handy."
   ]
  },
  {
   "cell_type": "markdown",
   "metadata": {
    "id": "gwXR7VMdT8-8"
   },
   "source": [
    "## Challenges\n",
    "\n",
    "In these challenges you will handle a bigger dataset."
   ]
  },
  {
   "cell_type": "markdown",
   "metadata": {
    "id": "6dOiznYPT8-8"
   },
   "source": [
    "There are a few first questions you need to know how to answer before reading a CSV file with Pandas\n",
    "\n",
    "- Does the CSV have a header line?\n",
    "- Is there an index column?\n",
    "- What is the separator character on the CSV file?\n",
    "- If there are missing values, is there any specific word being used to describe a missing value?\n",
    "\n",
    "Then, these details can be handled by specifing some parameters as `sep`, `na_values` or `index_col`.\n",
    "\n",
    "### Challenge 1 - Load the dataset"
   ]
  },
  {
   "cell_type": "code",
   "metadata": {
    "id": "-3GJptZtT8-8",
    "ExecuteTime": {
     "end_time": "2025-09-22T09:12:39.102929Z",
     "start_time": "2025-09-22T09:12:39.066616Z"
    }
   },
   "source": [
    "# Your code here\n",
    "# load titanic dataset\n",
    "import pandas as pd\n",
    "\n",
    "titanic_df=pd.read_csv('titanic.csv')\n",
    "titanic_df\n"
   ],
   "outputs": [
    {
     "data": {
      "text/plain": [
       "     PassengerId  Survived  Pclass  \\\n",
       "0              1         0       3   \n",
       "1              2         1       1   \n",
       "2              3         1       3   \n",
       "3              4         1       1   \n",
       "4              5         0       3   \n",
       "..           ...       ...     ...   \n",
       "886          887         0       2   \n",
       "887          888         1       1   \n",
       "888          889         0       3   \n",
       "889          890         1       1   \n",
       "890          891         0       3   \n",
       "\n",
       "                                                  Name     Sex   Age  SibSp  \\\n",
       "0                              Braund, Mr. Owen Harris    male  22.0      1   \n",
       "1    Cumings, Mrs. John Bradley (Florence Briggs Th...  female  38.0      1   \n",
       "2                               Heikkinen, Miss. Laina  female  26.0      0   \n",
       "3         Futrelle, Mrs. Jacques Heath (Lily May Peel)  female  35.0      1   \n",
       "4                             Allen, Mr. William Henry    male  35.0      0   \n",
       "..                                                 ...     ...   ...    ...   \n",
       "886                              Montvila, Rev. Juozas    male  27.0      0   \n",
       "887                       Graham, Miss. Margaret Edith  female  19.0      0   \n",
       "888           Johnston, Miss. Catherine Helen \"Carrie\"  female   NaN      1   \n",
       "889                              Behr, Mr. Karl Howell    male  26.0      0   \n",
       "890                                Dooley, Mr. Patrick    male  32.0      0   \n",
       "\n",
       "     Parch            Ticket     Fare Cabin Embarked  \n",
       "0        0         A/5 21171   7.2500   NaN        S  \n",
       "1        0          PC 17599  71.2833   C85        C  \n",
       "2        0  STON/O2. 3101282   7.9250   NaN        S  \n",
       "3        0            113803  53.1000  C123        S  \n",
       "4        0            373450   8.0500   NaN        S  \n",
       "..     ...               ...      ...   ...      ...  \n",
       "886      0            211536  13.0000   NaN        S  \n",
       "887      0            112053  30.0000   B42        S  \n",
       "888      2        W./C. 6607  23.4500   NaN        S  \n",
       "889      0            111369  30.0000  C148        C  \n",
       "890      0            370376   7.7500   NaN        Q  \n",
       "\n",
       "[891 rows x 12 columns]"
      ],
      "text/html": [
       "<div>\n",
       "<style scoped>\n",
       "    .dataframe tbody tr th:only-of-type {\n",
       "        vertical-align: middle;\n",
       "    }\n",
       "\n",
       "    .dataframe tbody tr th {\n",
       "        vertical-align: top;\n",
       "    }\n",
       "\n",
       "    .dataframe thead th {\n",
       "        text-align: right;\n",
       "    }\n",
       "</style>\n",
       "<table border=\"1\" class=\"dataframe\">\n",
       "  <thead>\n",
       "    <tr style=\"text-align: right;\">\n",
       "      <th></th>\n",
       "      <th>PassengerId</th>\n",
       "      <th>Survived</th>\n",
       "      <th>Pclass</th>\n",
       "      <th>Name</th>\n",
       "      <th>Sex</th>\n",
       "      <th>Age</th>\n",
       "      <th>SibSp</th>\n",
       "      <th>Parch</th>\n",
       "      <th>Ticket</th>\n",
       "      <th>Fare</th>\n",
       "      <th>Cabin</th>\n",
       "      <th>Embarked</th>\n",
       "    </tr>\n",
       "  </thead>\n",
       "  <tbody>\n",
       "    <tr>\n",
       "      <th>0</th>\n",
       "      <td>1</td>\n",
       "      <td>0</td>\n",
       "      <td>3</td>\n",
       "      <td>Braund, Mr. Owen Harris</td>\n",
       "      <td>male</td>\n",
       "      <td>22.0</td>\n",
       "      <td>1</td>\n",
       "      <td>0</td>\n",
       "      <td>A/5 21171</td>\n",
       "      <td>7.2500</td>\n",
       "      <td>NaN</td>\n",
       "      <td>S</td>\n",
       "    </tr>\n",
       "    <tr>\n",
       "      <th>1</th>\n",
       "      <td>2</td>\n",
       "      <td>1</td>\n",
       "      <td>1</td>\n",
       "      <td>Cumings, Mrs. John Bradley (Florence Briggs Th...</td>\n",
       "      <td>female</td>\n",
       "      <td>38.0</td>\n",
       "      <td>1</td>\n",
       "      <td>0</td>\n",
       "      <td>PC 17599</td>\n",
       "      <td>71.2833</td>\n",
       "      <td>C85</td>\n",
       "      <td>C</td>\n",
       "    </tr>\n",
       "    <tr>\n",
       "      <th>2</th>\n",
       "      <td>3</td>\n",
       "      <td>1</td>\n",
       "      <td>3</td>\n",
       "      <td>Heikkinen, Miss. Laina</td>\n",
       "      <td>female</td>\n",
       "      <td>26.0</td>\n",
       "      <td>0</td>\n",
       "      <td>0</td>\n",
       "      <td>STON/O2. 3101282</td>\n",
       "      <td>7.9250</td>\n",
       "      <td>NaN</td>\n",
       "      <td>S</td>\n",
       "    </tr>\n",
       "    <tr>\n",
       "      <th>3</th>\n",
       "      <td>4</td>\n",
       "      <td>1</td>\n",
       "      <td>1</td>\n",
       "      <td>Futrelle, Mrs. Jacques Heath (Lily May Peel)</td>\n",
       "      <td>female</td>\n",
       "      <td>35.0</td>\n",
       "      <td>1</td>\n",
       "      <td>0</td>\n",
       "      <td>113803</td>\n",
       "      <td>53.1000</td>\n",
       "      <td>C123</td>\n",
       "      <td>S</td>\n",
       "    </tr>\n",
       "    <tr>\n",
       "      <th>4</th>\n",
       "      <td>5</td>\n",
       "      <td>0</td>\n",
       "      <td>3</td>\n",
       "      <td>Allen, Mr. William Henry</td>\n",
       "      <td>male</td>\n",
       "      <td>35.0</td>\n",
       "      <td>0</td>\n",
       "      <td>0</td>\n",
       "      <td>373450</td>\n",
       "      <td>8.0500</td>\n",
       "      <td>NaN</td>\n",
       "      <td>S</td>\n",
       "    </tr>\n",
       "    <tr>\n",
       "      <th>...</th>\n",
       "      <td>...</td>\n",
       "      <td>...</td>\n",
       "      <td>...</td>\n",
       "      <td>...</td>\n",
       "      <td>...</td>\n",
       "      <td>...</td>\n",
       "      <td>...</td>\n",
       "      <td>...</td>\n",
       "      <td>...</td>\n",
       "      <td>...</td>\n",
       "      <td>...</td>\n",
       "      <td>...</td>\n",
       "    </tr>\n",
       "    <tr>\n",
       "      <th>886</th>\n",
       "      <td>887</td>\n",
       "      <td>0</td>\n",
       "      <td>2</td>\n",
       "      <td>Montvila, Rev. Juozas</td>\n",
       "      <td>male</td>\n",
       "      <td>27.0</td>\n",
       "      <td>0</td>\n",
       "      <td>0</td>\n",
       "      <td>211536</td>\n",
       "      <td>13.0000</td>\n",
       "      <td>NaN</td>\n",
       "      <td>S</td>\n",
       "    </tr>\n",
       "    <tr>\n",
       "      <th>887</th>\n",
       "      <td>888</td>\n",
       "      <td>1</td>\n",
       "      <td>1</td>\n",
       "      <td>Graham, Miss. Margaret Edith</td>\n",
       "      <td>female</td>\n",
       "      <td>19.0</td>\n",
       "      <td>0</td>\n",
       "      <td>0</td>\n",
       "      <td>112053</td>\n",
       "      <td>30.0000</td>\n",
       "      <td>B42</td>\n",
       "      <td>S</td>\n",
       "    </tr>\n",
       "    <tr>\n",
       "      <th>888</th>\n",
       "      <td>889</td>\n",
       "      <td>0</td>\n",
       "      <td>3</td>\n",
       "      <td>Johnston, Miss. Catherine Helen \"Carrie\"</td>\n",
       "      <td>female</td>\n",
       "      <td>NaN</td>\n",
       "      <td>1</td>\n",
       "      <td>2</td>\n",
       "      <td>W./C. 6607</td>\n",
       "      <td>23.4500</td>\n",
       "      <td>NaN</td>\n",
       "      <td>S</td>\n",
       "    </tr>\n",
       "    <tr>\n",
       "      <th>889</th>\n",
       "      <td>890</td>\n",
       "      <td>1</td>\n",
       "      <td>1</td>\n",
       "      <td>Behr, Mr. Karl Howell</td>\n",
       "      <td>male</td>\n",
       "      <td>26.0</td>\n",
       "      <td>0</td>\n",
       "      <td>0</td>\n",
       "      <td>111369</td>\n",
       "      <td>30.0000</td>\n",
       "      <td>C148</td>\n",
       "      <td>C</td>\n",
       "    </tr>\n",
       "    <tr>\n",
       "      <th>890</th>\n",
       "      <td>891</td>\n",
       "      <td>0</td>\n",
       "      <td>3</td>\n",
       "      <td>Dooley, Mr. Patrick</td>\n",
       "      <td>male</td>\n",
       "      <td>32.0</td>\n",
       "      <td>0</td>\n",
       "      <td>0</td>\n",
       "      <td>370376</td>\n",
       "      <td>7.7500</td>\n",
       "      <td>NaN</td>\n",
       "      <td>Q</td>\n",
       "    </tr>\n",
       "  </tbody>\n",
       "</table>\n",
       "<p>891 rows × 12 columns</p>\n",
       "</div>"
      ]
     },
     "execution_count": 3,
     "metadata": {},
     "output_type": "execute_result"
    }
   ],
   "execution_count": 3
  },
  {
   "cell_type": "markdown",
   "metadata": {
    "id": "L2GqGEhYT8-8"
   },
   "source": [
    "### Challenge 2 - Validate the loading\n",
    "\n",
    "1. Show the first 10 rows and confirm if the table matches with the lines\n"
   ]
  },
  {
   "cell_type": "code",
   "metadata": {
    "id": "mJWEEOAkT8-8",
    "ExecuteTime": {
     "end_time": "2025-09-22T09:14:48.582708Z",
     "start_time": "2025-09-22T09:14:48.565104Z"
    }
   },
   "source": "titanic_df.head(10)",
   "outputs": [
    {
     "data": {
      "text/plain": [
       "   PassengerId  Survived  Pclass  \\\n",
       "0            1         0       3   \n",
       "1            2         1       1   \n",
       "2            3         1       3   \n",
       "3            4         1       1   \n",
       "4            5         0       3   \n",
       "5            6         0       3   \n",
       "6            7         0       1   \n",
       "7            8         0       3   \n",
       "8            9         1       3   \n",
       "9           10         1       2   \n",
       "\n",
       "                                                Name     Sex   Age  SibSp  \\\n",
       "0                            Braund, Mr. Owen Harris    male  22.0      1   \n",
       "1  Cumings, Mrs. John Bradley (Florence Briggs Th...  female  38.0      1   \n",
       "2                             Heikkinen, Miss. Laina  female  26.0      0   \n",
       "3       Futrelle, Mrs. Jacques Heath (Lily May Peel)  female  35.0      1   \n",
       "4                           Allen, Mr. William Henry    male  35.0      0   \n",
       "5                                   Moran, Mr. James    male   NaN      0   \n",
       "6                            McCarthy, Mr. Timothy J    male  54.0      0   \n",
       "7                     Palsson, Master. Gosta Leonard    male   2.0      3   \n",
       "8  Johnson, Mrs. Oscar W (Elisabeth Vilhelmina Berg)  female  27.0      0   \n",
       "9                Nasser, Mrs. Nicholas (Adele Achem)  female  14.0      1   \n",
       "\n",
       "   Parch            Ticket     Fare Cabin Embarked  \n",
       "0      0         A/5 21171   7.2500   NaN        S  \n",
       "1      0          PC 17599  71.2833   C85        C  \n",
       "2      0  STON/O2. 3101282   7.9250   NaN        S  \n",
       "3      0            113803  53.1000  C123        S  \n",
       "4      0            373450   8.0500   NaN        S  \n",
       "5      0            330877   8.4583   NaN        Q  \n",
       "6      0             17463  51.8625   E46        S  \n",
       "7      1            349909  21.0750   NaN        S  \n",
       "8      2            347742  11.1333   NaN        S  \n",
       "9      0            237736  30.0708   NaN        C  "
      ],
      "text/html": [
       "<div>\n",
       "<style scoped>\n",
       "    .dataframe tbody tr th:only-of-type {\n",
       "        vertical-align: middle;\n",
       "    }\n",
       "\n",
       "    .dataframe tbody tr th {\n",
       "        vertical-align: top;\n",
       "    }\n",
       "\n",
       "    .dataframe thead th {\n",
       "        text-align: right;\n",
       "    }\n",
       "</style>\n",
       "<table border=\"1\" class=\"dataframe\">\n",
       "  <thead>\n",
       "    <tr style=\"text-align: right;\">\n",
       "      <th></th>\n",
       "      <th>PassengerId</th>\n",
       "      <th>Survived</th>\n",
       "      <th>Pclass</th>\n",
       "      <th>Name</th>\n",
       "      <th>Sex</th>\n",
       "      <th>Age</th>\n",
       "      <th>SibSp</th>\n",
       "      <th>Parch</th>\n",
       "      <th>Ticket</th>\n",
       "      <th>Fare</th>\n",
       "      <th>Cabin</th>\n",
       "      <th>Embarked</th>\n",
       "    </tr>\n",
       "  </thead>\n",
       "  <tbody>\n",
       "    <tr>\n",
       "      <th>0</th>\n",
       "      <td>1</td>\n",
       "      <td>0</td>\n",
       "      <td>3</td>\n",
       "      <td>Braund, Mr. Owen Harris</td>\n",
       "      <td>male</td>\n",
       "      <td>22.0</td>\n",
       "      <td>1</td>\n",
       "      <td>0</td>\n",
       "      <td>A/5 21171</td>\n",
       "      <td>7.2500</td>\n",
       "      <td>NaN</td>\n",
       "      <td>S</td>\n",
       "    </tr>\n",
       "    <tr>\n",
       "      <th>1</th>\n",
       "      <td>2</td>\n",
       "      <td>1</td>\n",
       "      <td>1</td>\n",
       "      <td>Cumings, Mrs. John Bradley (Florence Briggs Th...</td>\n",
       "      <td>female</td>\n",
       "      <td>38.0</td>\n",
       "      <td>1</td>\n",
       "      <td>0</td>\n",
       "      <td>PC 17599</td>\n",
       "      <td>71.2833</td>\n",
       "      <td>C85</td>\n",
       "      <td>C</td>\n",
       "    </tr>\n",
       "    <tr>\n",
       "      <th>2</th>\n",
       "      <td>3</td>\n",
       "      <td>1</td>\n",
       "      <td>3</td>\n",
       "      <td>Heikkinen, Miss. Laina</td>\n",
       "      <td>female</td>\n",
       "      <td>26.0</td>\n",
       "      <td>0</td>\n",
       "      <td>0</td>\n",
       "      <td>STON/O2. 3101282</td>\n",
       "      <td>7.9250</td>\n",
       "      <td>NaN</td>\n",
       "      <td>S</td>\n",
       "    </tr>\n",
       "    <tr>\n",
       "      <th>3</th>\n",
       "      <td>4</td>\n",
       "      <td>1</td>\n",
       "      <td>1</td>\n",
       "      <td>Futrelle, Mrs. Jacques Heath (Lily May Peel)</td>\n",
       "      <td>female</td>\n",
       "      <td>35.0</td>\n",
       "      <td>1</td>\n",
       "      <td>0</td>\n",
       "      <td>113803</td>\n",
       "      <td>53.1000</td>\n",
       "      <td>C123</td>\n",
       "      <td>S</td>\n",
       "    </tr>\n",
       "    <tr>\n",
       "      <th>4</th>\n",
       "      <td>5</td>\n",
       "      <td>0</td>\n",
       "      <td>3</td>\n",
       "      <td>Allen, Mr. William Henry</td>\n",
       "      <td>male</td>\n",
       "      <td>35.0</td>\n",
       "      <td>0</td>\n",
       "      <td>0</td>\n",
       "      <td>373450</td>\n",
       "      <td>8.0500</td>\n",
       "      <td>NaN</td>\n",
       "      <td>S</td>\n",
       "    </tr>\n",
       "    <tr>\n",
       "      <th>5</th>\n",
       "      <td>6</td>\n",
       "      <td>0</td>\n",
       "      <td>3</td>\n",
       "      <td>Moran, Mr. James</td>\n",
       "      <td>male</td>\n",
       "      <td>NaN</td>\n",
       "      <td>0</td>\n",
       "      <td>0</td>\n",
       "      <td>330877</td>\n",
       "      <td>8.4583</td>\n",
       "      <td>NaN</td>\n",
       "      <td>Q</td>\n",
       "    </tr>\n",
       "    <tr>\n",
       "      <th>6</th>\n",
       "      <td>7</td>\n",
       "      <td>0</td>\n",
       "      <td>1</td>\n",
       "      <td>McCarthy, Mr. Timothy J</td>\n",
       "      <td>male</td>\n",
       "      <td>54.0</td>\n",
       "      <td>0</td>\n",
       "      <td>0</td>\n",
       "      <td>17463</td>\n",
       "      <td>51.8625</td>\n",
       "      <td>E46</td>\n",
       "      <td>S</td>\n",
       "    </tr>\n",
       "    <tr>\n",
       "      <th>7</th>\n",
       "      <td>8</td>\n",
       "      <td>0</td>\n",
       "      <td>3</td>\n",
       "      <td>Palsson, Master. Gosta Leonard</td>\n",
       "      <td>male</td>\n",
       "      <td>2.0</td>\n",
       "      <td>3</td>\n",
       "      <td>1</td>\n",
       "      <td>349909</td>\n",
       "      <td>21.0750</td>\n",
       "      <td>NaN</td>\n",
       "      <td>S</td>\n",
       "    </tr>\n",
       "    <tr>\n",
       "      <th>8</th>\n",
       "      <td>9</td>\n",
       "      <td>1</td>\n",
       "      <td>3</td>\n",
       "      <td>Johnson, Mrs. Oscar W (Elisabeth Vilhelmina Berg)</td>\n",
       "      <td>female</td>\n",
       "      <td>27.0</td>\n",
       "      <td>0</td>\n",
       "      <td>2</td>\n",
       "      <td>347742</td>\n",
       "      <td>11.1333</td>\n",
       "      <td>NaN</td>\n",
       "      <td>S</td>\n",
       "    </tr>\n",
       "    <tr>\n",
       "      <th>9</th>\n",
       "      <td>10</td>\n",
       "      <td>1</td>\n",
       "      <td>2</td>\n",
       "      <td>Nasser, Mrs. Nicholas (Adele Achem)</td>\n",
       "      <td>female</td>\n",
       "      <td>14.0</td>\n",
       "      <td>1</td>\n",
       "      <td>0</td>\n",
       "      <td>237736</td>\n",
       "      <td>30.0708</td>\n",
       "      <td>NaN</td>\n",
       "      <td>C</td>\n",
       "    </tr>\n",
       "  </tbody>\n",
       "</table>\n",
       "</div>"
      ]
     },
     "execution_count": 5,
     "metadata": {},
     "output_type": "execute_result"
    }
   ],
   "execution_count": 5
  },
  {
   "cell_type": "markdown",
   "metadata": {
    "id": "hOiOJaRRT8-9"
   },
   "source": [
    "2. Try the DataFrame method `info`. It is a nice alternative. What information do you get from this?"
   ]
  },
  {
   "cell_type": "code",
   "metadata": {
    "id": "6Oju5vu6T8-9",
    "ExecuteTime": {
     "end_time": "2025-09-22T09:15:42.261656Z",
     "start_time": "2025-09-22T09:15:42.248740Z"
    }
   },
   "source": [
    "# Your code here\n",
    "titanic_df.info(10)"
   ],
   "outputs": [
    {
     "name": "stdout",
     "output_type": "stream",
     "text": [
      "<class 'pandas.core.frame.DataFrame'>\n",
      "RangeIndex: 891 entries, 0 to 890\n",
      "Data columns (total 12 columns):\n",
      " #   Column       Non-Null Count  Dtype  \n",
      "---  ------       --------------  -----  \n",
      " 0   PassengerId  891 non-null    int64  \n",
      " 1   Survived     891 non-null    int64  \n",
      " 2   Pclass       891 non-null    int64  \n",
      " 3   Name         891 non-null    object \n",
      " 4   Sex          891 non-null    object \n",
      " 5   Age          714 non-null    float64\n",
      " 6   SibSp        891 non-null    int64  \n",
      " 7   Parch        891 non-null    int64  \n",
      " 8   Ticket       891 non-null    object \n",
      " 9   Fare         891 non-null    float64\n",
      " 10  Cabin        204 non-null    object \n",
      " 11  Embarked     889 non-null    object \n",
      "dtypes: float64(2), int64(5), object(5)\n",
      "memory usage: 83.7+ KB\n"
     ]
    }
   ],
   "execution_count": 7
  },
  {
   "cell_type": "markdown",
   "metadata": {
    "id": "Q9yd2emmT8-9"
   },
   "source": [
    "### Challenge 3 - Some basic EDA\n",
    "\n",
    "**EDA** stands for `Exploratory Data Analysis`. It is used by data scientists to analyze and investigate data sets and summarize their main characteristics, often employing data visualization methods."
   ]
  },
  {
   "cell_type": "markdown",
   "metadata": {
    "id": "t5qQk0ReT8-9"
   },
   "source": [
    "Try executing `df_titanic.describe()`."
   ]
  },
  {
   "cell_type": "code",
   "metadata": {
    "id": "4upaLx5XT8-9",
    "ExecuteTime": {
     "end_time": "2025-09-22T09:16:03.944759Z",
     "start_time": "2025-09-22T09:16:03.908355Z"
    }
   },
   "source": "titanic_df.describe()",
   "outputs": [
    {
     "data": {
      "text/plain": [
       "       PassengerId    Survived      Pclass         Age       SibSp  \\\n",
       "count   891.000000  891.000000  891.000000  714.000000  891.000000   \n",
       "mean    446.000000    0.383838    2.308642   29.699118    0.523008   \n",
       "std     257.353842    0.486592    0.836071   14.526497    1.102743   \n",
       "min       1.000000    0.000000    1.000000    0.420000    0.000000   \n",
       "25%     223.500000    0.000000    2.000000   20.125000    0.000000   \n",
       "50%     446.000000    0.000000    3.000000   28.000000    0.000000   \n",
       "75%     668.500000    1.000000    3.000000   38.000000    1.000000   \n",
       "max     891.000000    1.000000    3.000000   80.000000    8.000000   \n",
       "\n",
       "            Parch        Fare  \n",
       "count  891.000000  891.000000  \n",
       "mean     0.381594   32.204208  \n",
       "std      0.806057   49.693429  \n",
       "min      0.000000    0.000000  \n",
       "25%      0.000000    7.910400  \n",
       "50%      0.000000   14.454200  \n",
       "75%      0.000000   31.000000  \n",
       "max      6.000000  512.329200  "
      ],
      "text/html": [
       "<div>\n",
       "<style scoped>\n",
       "    .dataframe tbody tr th:only-of-type {\n",
       "        vertical-align: middle;\n",
       "    }\n",
       "\n",
       "    .dataframe tbody tr th {\n",
       "        vertical-align: top;\n",
       "    }\n",
       "\n",
       "    .dataframe thead th {\n",
       "        text-align: right;\n",
       "    }\n",
       "</style>\n",
       "<table border=\"1\" class=\"dataframe\">\n",
       "  <thead>\n",
       "    <tr style=\"text-align: right;\">\n",
       "      <th></th>\n",
       "      <th>PassengerId</th>\n",
       "      <th>Survived</th>\n",
       "      <th>Pclass</th>\n",
       "      <th>Age</th>\n",
       "      <th>SibSp</th>\n",
       "      <th>Parch</th>\n",
       "      <th>Fare</th>\n",
       "    </tr>\n",
       "  </thead>\n",
       "  <tbody>\n",
       "    <tr>\n",
       "      <th>count</th>\n",
       "      <td>891.000000</td>\n",
       "      <td>891.000000</td>\n",
       "      <td>891.000000</td>\n",
       "      <td>714.000000</td>\n",
       "      <td>891.000000</td>\n",
       "      <td>891.000000</td>\n",
       "      <td>891.000000</td>\n",
       "    </tr>\n",
       "    <tr>\n",
       "      <th>mean</th>\n",
       "      <td>446.000000</td>\n",
       "      <td>0.383838</td>\n",
       "      <td>2.308642</td>\n",
       "      <td>29.699118</td>\n",
       "      <td>0.523008</td>\n",
       "      <td>0.381594</td>\n",
       "      <td>32.204208</td>\n",
       "    </tr>\n",
       "    <tr>\n",
       "      <th>std</th>\n",
       "      <td>257.353842</td>\n",
       "      <td>0.486592</td>\n",
       "      <td>0.836071</td>\n",
       "      <td>14.526497</td>\n",
       "      <td>1.102743</td>\n",
       "      <td>0.806057</td>\n",
       "      <td>49.693429</td>\n",
       "    </tr>\n",
       "    <tr>\n",
       "      <th>min</th>\n",
       "      <td>1.000000</td>\n",
       "      <td>0.000000</td>\n",
       "      <td>1.000000</td>\n",
       "      <td>0.420000</td>\n",
       "      <td>0.000000</td>\n",
       "      <td>0.000000</td>\n",
       "      <td>0.000000</td>\n",
       "    </tr>\n",
       "    <tr>\n",
       "      <th>25%</th>\n",
       "      <td>223.500000</td>\n",
       "      <td>0.000000</td>\n",
       "      <td>2.000000</td>\n",
       "      <td>20.125000</td>\n",
       "      <td>0.000000</td>\n",
       "      <td>0.000000</td>\n",
       "      <td>7.910400</td>\n",
       "    </tr>\n",
       "    <tr>\n",
       "      <th>50%</th>\n",
       "      <td>446.000000</td>\n",
       "      <td>0.000000</td>\n",
       "      <td>3.000000</td>\n",
       "      <td>28.000000</td>\n",
       "      <td>0.000000</td>\n",
       "      <td>0.000000</td>\n",
       "      <td>14.454200</td>\n",
       "    </tr>\n",
       "    <tr>\n",
       "      <th>75%</th>\n",
       "      <td>668.500000</td>\n",
       "      <td>1.000000</td>\n",
       "      <td>3.000000</td>\n",
       "      <td>38.000000</td>\n",
       "      <td>1.000000</td>\n",
       "      <td>0.000000</td>\n",
       "      <td>31.000000</td>\n",
       "    </tr>\n",
       "    <tr>\n",
       "      <th>max</th>\n",
       "      <td>891.000000</td>\n",
       "      <td>1.000000</td>\n",
       "      <td>3.000000</td>\n",
       "      <td>80.000000</td>\n",
       "      <td>8.000000</td>\n",
       "      <td>6.000000</td>\n",
       "      <td>512.329200</td>\n",
       "    </tr>\n",
       "  </tbody>\n",
       "</table>\n",
       "</div>"
      ]
     },
     "execution_count": 8,
     "metadata": {},
     "output_type": "execute_result"
    }
   ],
   "execution_count": 8
  },
  {
   "cell_type": "markdown",
   "metadata": {
    "id": "HJKHG5WFT8-9"
   },
   "source": [
    "After investigating the results, describe them and comment on the usefulness of this Pandas function."
   ]
  },
  {
   "cell_type": "code",
   "execution_count": null,
   "metadata": {
    "id": "OIHcdkQNT8-9"
   },
   "outputs": [],
   "source": [
    "# Your comments here"
   ]
  },
  {
   "cell_type": "markdown",
   "metadata": {
    "id": "tsfZ6tk2T8-9"
   },
   "source": [
    "Now, try `.info()` method."
   ]
  },
  {
   "cell_type": "code",
   "metadata": {
    "id": "kqXx9uugT8-9",
    "ExecuteTime": {
     "end_time": "2025-09-22T09:16:36.926101Z",
     "start_time": "2025-09-22T09:16:36.911916Z"
    }
   },
   "source": [
    "# Your code here\n",
    "titanic_df.info()"
   ],
   "outputs": [
    {
     "name": "stdout",
     "output_type": "stream",
     "text": [
      "<class 'pandas.core.frame.DataFrame'>\n",
      "RangeIndex: 891 entries, 0 to 890\n",
      "Data columns (total 12 columns):\n",
      " #   Column       Non-Null Count  Dtype  \n",
      "---  ------       --------------  -----  \n",
      " 0   PassengerId  891 non-null    int64  \n",
      " 1   Survived     891 non-null    int64  \n",
      " 2   Pclass       891 non-null    int64  \n",
      " 3   Name         891 non-null    object \n",
      " 4   Sex          891 non-null    object \n",
      " 5   Age          714 non-null    float64\n",
      " 6   SibSp        891 non-null    int64  \n",
      " 7   Parch        891 non-null    int64  \n",
      " 8   Ticket       891 non-null    object \n",
      " 9   Fare         891 non-null    float64\n",
      " 10  Cabin        204 non-null    object \n",
      " 11  Embarked     889 non-null    object \n",
      "dtypes: float64(2), int64(5), object(5)\n",
      "memory usage: 83.7+ KB\n"
     ]
    }
   ],
   "execution_count": 10
  },
  {
   "cell_type": "markdown",
   "metadata": {
    "id": "d6aiaGFrT8--"
   },
   "source": [
    "What information do you get from this?"
   ]
  },
  {
   "cell_type": "code",
   "execution_count": null,
   "metadata": {
    "id": "gw3o_wE9T8--"
   },
   "outputs": [],
   "source": [
    "# Your comments here\n",
    "# The number of Non-Null and the type of each variable"
   ]
  },
  {
   "cell_type": "markdown",
   "metadata": {
    "id": "G6wqc7QgT8--"
   },
   "source": [
    "### Challenge 4 - Getting to know your data\n",
    "\n",
    "What do the results above tell you about each variable? Do you actually now what they mean?\n",
    "\n",
    "This is a crutial step. For info on this dataset click [here](https://www.kaggle.com/competitions/titanic/data?select=train.csv).\n",
    "\n"
   ]
  },
  {
   "cell_type": "code",
   "execution_count": null,
   "metadata": {
    "id": "TeBUz6VVT8--"
   },
   "outputs": [],
   "source": "# Your comments here\n"
  },
  {
   "cell_type": "markdown",
   "metadata": {
    "id": "qrwtSQyJT8--"
   },
   "source": [
    "---\n",
    "\n",
    "## Additional Challenge\n",
    "\n",
    "These challenges will help you get familiar with the most important object of the NumPy library, the array."
   ]
  },
  {
   "cell_type": "markdown",
   "metadata": {
    "id": "LaW9C3sET8--"
   },
   "source": [
    "### Part I\n",
    "\n",
    "1. Use the numpy's function `arange` and create the array `my_array` with the sequence of numbers from 0 to 24."
   ]
  },
  {
   "cell_type": "code",
   "metadata": {
    "id": "xJzo8bNqT8--",
    "ExecuteTime": {
     "end_time": "2025-09-22T09:22:17.396404Z",
     "start_time": "2025-09-22T09:22:17.391973Z"
    }
   },
   "source": "import numpy as np\n",
   "outputs": [],
   "execution_count": 11
  },
  {
   "cell_type": "markdown",
   "metadata": {
    "id": "aNpjSuuLT8--"
   },
   "source": [
    "2. Use the method `reshape` to redimension the array so that it has 6 rows and 4 columns. What happened? What is the relasionship between the number of elements and the dimensions of a 2D matrix?"
   ]
  },
  {
   "cell_type": "code",
   "metadata": {
    "colab": {
     "base_uri": "https://localhost:8080/"
    },
    "id": "HpUE2CrVk-sU",
    "outputId": "26461d09-1cdd-486b-99dd-04e48af18d7b",
    "ExecuteTime": {
     "end_time": "2025-09-22T09:23:35.611663Z",
     "start_time": "2025-09-22T09:23:35.604259Z"
    }
   },
   "source": [
    "my_array = np.arange(24).reshape((6,4))\n",
    "my_array"
   ],
   "outputs": [
    {
     "data": {
      "text/plain": [
       "array([[ 0,  1,  2,  3],\n",
       "       [ 4,  5,  6,  7],\n",
       "       [ 8,  9, 10, 11],\n",
       "       [12, 13, 14, 15],\n",
       "       [16, 17, 18, 19],\n",
       "       [20, 21, 22, 23]])"
      ]
     },
     "execution_count": 12,
     "metadata": {},
     "output_type": "execute_result"
    }
   ],
   "execution_count": 12
  },
  {
   "cell_type": "markdown",
   "metadata": {
    "id": "IJU9afY2-Kui"
   },
   "source": [
    "###  Part II\n",
    "\n",
    "$$\\begin{bmatrix}\n",
    "1 & 2 & 1 & 7 \\\\\n",
    "3 & 0 & 1 & 8 \\\\\n",
    "0 & 2 & 4 & 9 \\\\\n",
    "2 & 2 & 5 & 5\n",
    "\\end{bmatrix}$$\n",
    "\n",
    "1. Create this matrix in NumPy"
   ]
  },
  {
   "cell_type": "code",
   "execution_count": null,
   "metadata": {
    "id": "qx4i5gtPAbX_"
   },
   "outputs": [],
   "source": "a"
  },
  {
   "cell_type": "markdown",
   "metadata": {
    "id": "gNXTxEyxT8-_"
   },
   "source": [
    "2. Slice the first column"
   ]
  },
  {
   "cell_type": "code",
   "execution_count": null,
   "metadata": {
    "id": "7Cf4IPX_T8-_"
   },
   "outputs": [],
   "source": []
  },
  {
   "cell_type": "markdown",
   "metadata": {
    "id": "5YCGM6MaT8-_"
   },
   "source": [
    "3. Slice the first column, but only the second and third rows"
   ]
  },
  {
   "cell_type": "code",
   "execution_count": null,
   "metadata": {
    "id": "AlqPavOKT8-_"
   },
   "outputs": [],
   "source": []
  },
  {
   "cell_type": "markdown",
   "metadata": {
    "id": "F9BrFCZ6T8-_"
   },
   "source": [
    "4. Slice the 4 elements at the center of the matrix"
   ]
  },
  {
   "cell_type": "code",
   "execution_count": null,
   "metadata": {
    "id": "kgKBWbP9T8-_"
   },
   "outputs": [],
   "source": []
  },
  {
   "cell_type": "markdown",
   "metadata": {
    "id": "68CTC3GZT8-_"
   },
   "source": [
    "5. Slice the sub-matrix of the 4 elements of the lower right corner, without using the matrix size"
   ]
  },
  {
   "cell_type": "code",
   "execution_count": null,
   "metadata": {
    "id": "yAADkSnhT8-_"
   },
   "outputs": [],
   "source": []
  },
  {
   "cell_type": "markdown",
   "metadata": {
    "id": "SLeP_mBIT8-_"
   },
   "source": [
    "6. Slice the sub-matrix of the 4 elements of the upper right corner, without using the matrix size"
   ]
  },
  {
   "cell_type": "code",
   "execution_count": null,
   "metadata": {
    "id": "EDOn-n-fT8-_"
   },
   "outputs": [],
   "source": []
  },
  {
   "cell_type": "markdown",
   "metadata": {
    "id": "yxOMi7z0T8_A"
   },
   "source": [
    "**Expected output**:\n",
    "\n",
    "```python\n",
    "\n",
    "first column:\n",
    " [1 3 0 2]\n",
    "\n",
    "first column, rows 2 and 3:\n",
    " [3 0]\n",
    "\n",
    "centre:\n",
    " [[0 1]\n",
    " [2 4]]\n",
    "\n",
    "bottom right:\n",
    " [[4 9]\n",
    " [5 5]]\n",
    "\n",
    "bottom right:\n",
    " [[4 9]\n",
    " [5 5]]\n",
    "\n",
    "top right:\n",
    " [[1 7]\n",
    " [1 8]]\n",
    "\n",
    "top right:\n",
    " [[1 7]\n",
    " [1 8]]\n",
    "\n",
    "top right:\n",
    " [[1 7]\n",
    " [1 8]]\n",
    "```"
   ]
  }
 ],
 "metadata": {
  "colab": {
   "provenance": [],
   "toc_visible": true
  },
  "kernelspec": {
   "display_name": "Python 3 (ipykernel)",
   "language": "python",
   "name": "python3"
  },
  "language_info": {
   "codemirror_mode": {
    "name": "ipython",
    "version": 3
   },
   "file_extension": ".py",
   "mimetype": "text/x-python",
   "name": "python",
   "nbconvert_exporter": "python",
   "pygments_lexer": "ipython3",
   "version": "3.12.3"
  }
 },
 "nbformat": 4,
 "nbformat_minor": 0
}
