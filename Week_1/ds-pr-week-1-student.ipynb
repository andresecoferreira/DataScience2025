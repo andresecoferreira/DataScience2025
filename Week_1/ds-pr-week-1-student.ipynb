{
 "cells": [
  {
   "cell_type": "markdown",
   "metadata": {
    "id": "TOxv5GaRq7ML"
   },
   "source": [
    "# Practical session week 1 - Python foundation\n",
    "\n",
    "## Purpose\n",
    "The purpose of this practical session is to make you more confident coding with Python and using Jupyter Notebooks, which we will be using for the rest of the year--both for Data Science and Artificial Intelligence.\n",
    "\n",
    "\n",
    "## Goals\n",
    "1. Working with Jupyter notebooks, cells, code and markdown\n",
    "2. Review the basic Python data structures, operators and flow of control\n",
    "3. Review the use and importance of custom libraries to augment Python's power\n",
    "\n",
    "## Results\n",
    "Fast track to programming in Python.\n",
    "\n",
    "---"
   ]
  },
  {
   "cell_type": "markdown",
   "metadata": {
    "id": "auJfEnRQq7MQ"
   },
   "source": [
    "---\n",
    "\n",
    "# Python Review"
   ]
  },
  {
   "cell_type": "markdown",
   "metadata": {
    "id": "O6O5FX1-q7MR"
   },
   "source": [
    "## Basic data types and their methods"
   ]
  },
  {
   "cell_type": "markdown",
   "metadata": {
    "id": "nsgpfMkUq7MR"
   },
   "source": [
    "https://docs.python.org/3.13/library/stdtypes.html"
   ]
  },
  {
   "cell_type": "markdown",
   "metadata": {
    "id": "4uyCuLa1q7MS"
   },
   "source": [
    "### Boolean"
   ]
  },
  {
   "cell_type": "code",
   "metadata": {
    "id": "QAN4JvsQq7MS",
    "ExecuteTime": {
     "end_time": "2025-09-08T19:52:54.555339Z",
     "start_time": "2025-09-08T19:52:54.550380Z"
    }
   },
   "source": [
    "import math\n",
    "\n",
    "#start a bolean variable 'a' as a True\n",
    "a = True\n",
    "\n",
    "#start a bolean variable 'b' as a False\n",
    "b = False"
   ],
   "outputs": [],
   "execution_count": 3
  },
  {
   "cell_type": "markdown",
   "metadata": {
    "id": "Ue653NvTq7MS"
   },
   "source": [
    "#### Boolean Operations\n",
    "\n",
    "Suppose variables `x` and `y`\n",
    "\n",
    "    \n",
    "<table><thead>\n",
    "<tr>\n",
    "<th style=\"text-align: center\">Operator</th>\n",
    "<th>Description</th>\n",
    "<th>Code</th>\n",
    "</tr>\n",
    "</thead><tbody>\n",
    "<tr>\n",
    "<td style=\"text-align: center\">and</td>\n",
    "<td>True if both are true</td>\n",
    "<td><code>x and y</code></td>\n",
    "</tr>\n",
    "<tr>\n",
    "<td style=\"text-align: center\">or</td>\n",
    "<td>True if at least one is true</td>\n",
    "<td><code>x or y</code></td>\n",
    "</tr>\n",
    "<tr>\n",
    "<td style=\"text-align: center\">not</td>\n",
    "<td>True only if false</td>\n",
    "<td><code>not x</code></td>\n",
    "</tr>\n",
    "</tbody></table>"
   ]
  },
  {
   "cell_type": "code",
   "metadata": {
    "colab": {
     "base_uri": "https://localhost:8080/"
    },
    "id": "V2OHLiSQq7MS",
    "executionInfo": {
     "status": "ok",
     "timestamp": 1725980090323,
     "user_tz": -60,
     "elapsed": 4,
     "user": {
      "displayName": "Zuil Filho",
      "userId": "14731231616780016906"
     }
    },
    "outputId": "9f1bf818-e71d-4ac7-83ab-8982e57ad473"
   },
   "source": [
    "# test all operators in a and b\n"
   ],
   "outputs": [],
   "execution_count": null
  },
  {
   "cell_type": "markdown",
   "metadata": {
    "id": "h7wENW4Dq7MS"
   },
   "source": [
    "---\n",
    "\n",
    "###  Numeric\n",
    "- int\n",
    "- float"
   ]
  },
  {
   "cell_type": "code",
   "metadata": {
    "colab": {
     "base_uri": "https://localhost:8080/"
    },
    "id": "eOrFkxSjq7MT",
    "executionInfo": {
     "status": "ok",
     "timestamp": 1725980094245,
     "user_tz": -60,
     "elapsed": 291,
     "user": {
      "displayName": "Zuil Filho",
      "userId": "14731231616780016906"
     }
    },
    "outputId": "0533eb50-66df-4dee-ab69-5036a7bbd14b",
    "ExecuteTime": {
     "end_time": "2025-09-08T19:53:03.464508Z",
     "start_time": "2025-09-08T19:53:03.459746Z"
    }
   },
   "source": [
    "#Initiate an integer variable 'a' with the value 10\n",
    "#and print the type\n",
    "a = 10"
   ],
   "outputs": [],
   "execution_count": 4
  },
  {
   "cell_type": "code",
   "source": [
    "#Initiate an float variable 'a' with the value 10.1\n",
    "#and print the type\n",
    "a = 10.1"
   ],
   "metadata": {
    "colab": {
     "base_uri": "https://localhost:8080/"
    },
    "id": "KRtUXluTxwPg",
    "executionInfo": {
     "status": "ok",
     "timestamp": 1725980095855,
     "user_tz": -60,
     "elapsed": 590,
     "user": {
      "displayName": "Zuil Filho",
      "userId": "14731231616780016906"
     }
    },
    "outputId": "abd98af6-a091-4a96-f5ee-87bb9a391c71",
    "ExecuteTime": {
     "end_time": "2025-09-08T19:53:10.828150Z",
     "start_time": "2025-09-08T19:53:10.823687Z"
    }
   },
   "outputs": [],
   "execution_count": 5
  },
  {
   "cell_type": "markdown",
   "metadata": {
    "id": "JJPY3CS2q7MT"
   },
   "source": [
    "Cast from Float to Integer"
   ]
  },
  {
   "cell_type": "code",
   "metadata": {
    "colab": {
     "base_uri": "https://localhost:8080/"
    },
    "id": "RBbNzEzBq7MT",
    "executionInfo": {
     "status": "ok",
     "timestamp": 1725980096825,
     "user_tz": -60,
     "elapsed": 3,
     "user": {
      "displayName": "Zuil Filho",
      "userId": "14731231616780016906"
     }
    },
    "outputId": "c660684d-25dc-40aa-aa1f-97ccfcb9b8bb",
    "ExecuteTime": {
     "end_time": "2025-09-08T19:53:20.218258Z",
     "start_time": "2025-09-08T19:53:20.207168Z"
    }
   },
   "source": [
    "#integer part of a float can be extracted using int()\n",
    "int(10.4)"
   ],
   "outputs": [
    {
     "data": {
      "text/plain": [
       "10"
      ]
     },
     "execution_count": 6,
     "metadata": {},
     "output_type": "execute_result"
    }
   ],
   "execution_count": 6
  },
  {
   "cell_type": "markdown",
   "metadata": {
    "id": "oyND-Ovsq7MT"
   },
   "source": [
    "Cast from Integer to Float"
   ]
  },
  {
   "cell_type": "code",
   "metadata": {
    "colab": {
     "base_uri": "https://localhost:8080/"
    },
    "id": "FzeTSFOHq7MT",
    "executionInfo": {
     "status": "ok",
     "timestamp": 1725980098620,
     "user_tz": -60,
     "elapsed": 421,
     "user": {
      "displayName": "Zuil Filho",
      "userId": "14731231616780016906"
     }
    },
    "outputId": "39477672-152d-4bb8-ccca-333eac81c2ac",
    "ExecuteTime": {
     "end_time": "2025-09-08T19:53:27.917080Z",
     "start_time": "2025-09-08T19:53:27.909509Z"
    }
   },
   "source": [
    "#convert an integer to a float using float()\n",
    "float(10)"
   ],
   "outputs": [
    {
     "data": {
      "text/plain": [
       "10.0"
      ]
     },
     "execution_count": 7,
     "metadata": {},
     "output_type": "execute_result"
    }
   ],
   "execution_count": 7
  },
  {
   "cell_type": "markdown",
   "metadata": {
    "id": "u84qlX8cq7MU"
   },
   "source": [
    "---\n",
    "### Sequence Types"
   ]
  },
  {
   "cell_type": "markdown",
   "metadata": {
    "id": "5aQOK-joq7MU"
   },
   "source": [
    "#### Text Sequence or String"
   ]
  },
  {
   "cell_type": "code",
   "metadata": {
    "colab": {
     "base_uri": "https://localhost:8080/"
    },
    "id": "XGKQNN07q7MU",
    "executionInfo": {
     "status": "ok",
     "timestamp": 1725980105260,
     "user_tz": -60,
     "elapsed": 305,
     "user": {
      "displayName": "Zuil Filho",
      "userId": "14731231616780016906"
     }
    },
    "outputId": "cecc6dc4-da1a-4e97-8b7a-e40879f6ffef",
    "ExecuteTime": {
     "end_time": "2025-09-08T19:54:20.576757Z",
     "start_time": "2025-09-08T19:54:20.568898Z"
    }
   },
   "source": [
    "#strings can be assigned by passing data in text format, either in single or double quotes\n",
    "#test both cases for 'Data'\n",
    "a = 'Data'\n",
    "b = 'BigData'\n",
    "\n",
    "#test if the two strings are equal\n",
    "a == b\n",
    "\n",
    "#checking the type of the variable\n",
    "type(a)"
   ],
   "outputs": [
    {
     "data": {
      "text/plain": [
       "str"
      ]
     },
     "execution_count": 9,
     "metadata": {},
     "output_type": "execute_result"
    }
   ],
   "execution_count": 9
  },
  {
   "cell_type": "markdown",
   "metadata": {
    "id": "SHXIPLjeq7MU"
   },
   "source": [
    "Concatenate Strings"
   ]
  },
  {
   "cell_type": "code",
   "metadata": {
    "colab": {
     "base_uri": "https://localhost:8080/",
     "height": 56
    },
    "id": "_IwpWyQfq7MU",
    "executionInfo": {
     "status": "ok",
     "timestamp": 1725980121977,
     "user_tz": -60,
     "elapsed": 566,
     "user": {
      "displayName": "Zuil Filho",
      "userId": "14731231616780016906"
     }
    },
    "outputId": "57cd1469-8960-428a-effd-a24c6c73ceec",
    "ExecuteTime": {
     "end_time": "2025-09-08T19:54:40.752390Z",
     "start_time": "2025-09-08T19:54:40.744212Z"
    }
   },
   "source": [
    "#to concatenate strings, just use the \"+\" operator.\n",
    "#create a new string \"Data Science\" using \"+\"\n",
    "c = a + b\n",
    "c"
   ],
   "outputs": [
    {
     "data": {
      "text/plain": [
       "'DataBigData'"
      ]
     },
     "execution_count": 11,
     "metadata": {},
     "output_type": "execute_result"
    }
   ],
   "execution_count": 11
  },
  {
   "cell_type": "markdown",
   "metadata": {
    "id": "qXp0-cYqq7MU"
   },
   "source": [
    "#### List,  Mutable Dynamic Arrays\n"
   ]
  },
  {
   "cell_type": "markdown",
   "metadata": {
    "id": "BsGosTy_q7MV"
   },
   "source": [
    "Empty List"
   ]
  },
  {
   "cell_type": "code",
   "metadata": {
    "colab": {
     "base_uri": "https://localhost:8080/"
    },
    "id": "tIcgmfDkq7MV",
    "executionInfo": {
     "status": "ok",
     "timestamp": 1725980135793,
     "user_tz": -60,
     "elapsed": 278,
     "user": {
      "displayName": "Zuil Filho",
      "userId": "14731231616780016906"
     }
    },
    "outputId": "038fbec1-e73a-43ea-ac48-876566a5df06",
    "ExecuteTime": {
     "end_time": "2025-09-08T19:55:07.225497Z",
     "start_time": "2025-09-08T19:55:07.217037Z"
    }
   },
   "source": [
    "#create a list using square brackets\n",
    "list1=[]\n",
    "\n",
    "#check the type\n",
    "type(list1)"
   ],
   "outputs": [
    {
     "data": {
      "text/plain": [
       "list"
      ]
     },
     "execution_count": 12,
     "metadata": {},
     "output_type": "execute_result"
    }
   ],
   "execution_count": 12
  },
  {
   "cell_type": "markdown",
   "metadata": {
    "id": "AO-gzl_eq7MV"
   },
   "source": [
    "Multiple types"
   ]
  },
  {
   "cell_type": "code",
   "metadata": {
    "colab": {
     "base_uri": "https://localhost:8080/"
    },
    "id": "dJfUiJ0Jq7MV",
    "executionInfo": {
     "status": "ok",
     "timestamp": 1725980143313,
     "user_tz": -60,
     "elapsed": 252,
     "user": {
      "displayName": "Zuil Filho",
      "userId": "14731231616780016906"
     }
    },
    "outputId": "9be6a4e6-2b3a-4f92-ab08-5c5fcb95c856",
    "ExecuteTime": {
     "end_time": "2025-09-08T19:55:23.002137Z",
     "start_time": "2025-09-08T19:55:22.994286Z"
    }
   },
   "source": [
    "#in Python, a list can hold multiple types of variables\"\n",
    "#try this code \"list_array = [\"one\", \"two\", 3, 4.0]\"\n",
    "#Check the type of all components on this list\n",
    "\n",
    "list_array = [\"one\", \"two\", 3, 4.0]\n",
    "type(list_array)"
   ],
   "outputs": [
    {
     "data": {
      "text/plain": [
       "list"
      ]
     },
     "execution_count": 13,
     "metadata": {},
     "output_type": "execute_result"
    }
   ],
   "execution_count": 13
  },
  {
   "cell_type": "markdown",
   "metadata": {
    "id": "8wnO8S7aq7MY"
   },
   "source": [
    "get list elements"
   ]
  },
  {
   "cell_type": "code",
   "source": [
    "#access the second element on the list and print the value.\n",
    "list_array[1]"
   ],
   "metadata": {
    "colab": {
     "base_uri": "https://localhost:8080/",
     "height": 56
    },
    "id": "rlohi9e7CcdA",
    "executionInfo": {
     "status": "ok",
     "timestamp": 1725839867850,
     "user_tz": -60,
     "elapsed": 251,
     "user": {
      "displayName": "Zuil Filho",
      "userId": "14731231616780016906"
     }
    },
    "outputId": "74b5344e-d88b-4670-9b09-9cda99888bc0",
    "ExecuteTime": {
     "end_time": "2025-09-08T19:55:42.624247Z",
     "start_time": "2025-09-08T19:55:42.617574Z"
    }
   },
   "outputs": [
    {
     "data": {
      "text/plain": [
       "'two'"
      ]
     },
     "execution_count": 14,
     "metadata": {},
     "output_type": "execute_result"
    }
   ],
   "execution_count": 14
  },
  {
   "cell_type": "code",
   "source": [
    "#You can also use negative numbers to access elements in reverse order\n",
    "#test by printing the -1 element\n",
    "list_array[-1]"
   ],
   "metadata": {
    "colab": {
     "base_uri": "https://localhost:8080/"
    },
    "id": "bXJJJwinCe6x",
    "executionInfo": {
     "status": "ok",
     "timestamp": 1725839869147,
     "user_tz": -60,
     "elapsed": 231,
     "user": {
      "displayName": "Zuil Filho",
      "userId": "14731231616780016906"
     }
    },
    "outputId": "877d7236-775c-45aa-e8ef-93a92fc70475",
    "ExecuteTime": {
     "end_time": "2025-09-08T19:55:56.760580Z",
     "start_time": "2025-09-08T19:55:56.753417Z"
    }
   },
   "outputs": [
    {
     "data": {
      "text/plain": [
       "4.0"
      ]
     },
     "execution_count": 15,
     "metadata": {},
     "output_type": "execute_result"
    }
   ],
   "execution_count": 15
  },
  {
   "cell_type": "markdown",
   "metadata": {
    "id": "R1gXyP-Hq7MV"
   },
   "source": [
    "Mutability"
   ]
  },
  {
   "cell_type": "code",
   "metadata": {
    "colab": {
     "base_uri": "https://localhost:8080/"
    },
    "id": "iub3QRJpq7MV",
    "executionInfo": {
     "status": "ok",
     "timestamp": 1725839875541,
     "user_tz": -60,
     "elapsed": 232,
     "user": {
      "displayName": "Zuil Filho",
      "userId": "14731231616780016906"
     }
    },
    "outputId": "7a48aa4c-5cae-4f80-852d-65ac6a207ab2",
    "ExecuteTime": {
     "end_time": "2025-09-08T19:56:31.440348Z",
     "start_time": "2025-09-08T19:56:31.429877Z"
    }
   },
   "source": [
    "#data from a list can be accessed by passing the index inside square brackets\n",
    "#lists can also be modified using the '=' operator\n",
    "#test change a value from list\n",
    "list_array[-1] = 'ultimo'\n",
    "list_array[-1]"
   ],
   "outputs": [
    {
     "data": {
      "text/plain": [
       "'ultimo'"
      ]
     },
     "execution_count": 16,
     "metadata": {},
     "output_type": "execute_result"
    }
   ],
   "execution_count": 16
  },
  {
   "cell_type": "markdown",
   "metadata": {
    "id": "KuprQDNtq7MW"
   },
   "source": [
    "Append at the end"
   ]
  },
  {
   "cell_type": "code",
   "metadata": {
    "colab": {
     "base_uri": "https://localhost:8080/"
    },
    "id": "EBhciBCVq7MW",
    "executionInfo": {
     "status": "ok",
     "timestamp": 1725839878319,
     "user_tz": -60,
     "elapsed": 218,
     "user": {
      "displayName": "Zuil Filho",
      "userId": "14731231616780016906"
     }
    },
    "outputId": "1dd42fb3-1c86-47dc-9c57-dbd26a59707e",
    "ExecuteTime": {
     "end_time": "2025-09-08T19:57:11.996998Z",
     "start_time": "2025-09-08T19:57:11.987922Z"
    }
   },
   "source": [
    "#to add a new item to the end of the list, just use the append() method\n",
    "#create a list and add itens using append()\n",
    "list_array.append('ultimo_mesmo')\n",
    "\n",
    "#print the contents of the list\n",
    "list_array"
   ],
   "outputs": [
    {
     "data": {
      "text/plain": [
       "['one', 'two', 3, 'ultimo', 'ultimo_mesmo']"
      ]
     },
     "execution_count": 17,
     "metadata": {},
     "output_type": "execute_result"
    }
   ],
   "execution_count": 17
  },
  {
   "cell_type": "markdown",
   "metadata": {
    "id": "9irIOBwdq7MW"
   },
   "source": [
    "Remove the last element"
   ]
  },
  {
   "cell_type": "code",
   "metadata": {
    "colab": {
     "base_uri": "https://localhost:8080/"
    },
    "id": "Hhx4V2R5q7MW",
    "executionInfo": {
     "status": "ok",
     "timestamp": 1725839882561,
     "user_tz": -60,
     "elapsed": 233,
     "user": {
      "displayName": "Zuil Filho",
      "userId": "14731231616780016906"
     }
    },
    "outputId": "5336d868-450b-4e69-c15a-82b5500c64d5",
    "ExecuteTime": {
     "end_time": "2025-09-08T19:57:26.492896Z",
     "start_time": "2025-09-08T19:57:26.485317Z"
    }
   },
   "source": [
    "#to remove an item from a list, use pop\n",
    "#if no parameter is passed inside the parentheses, it removes the last item\n",
    "#pop always returns the item that was removed from the list\n",
    "#try it\n",
    "list_array.pop()\n",
    "list_array"
   ],
   "outputs": [
    {
     "data": {
      "text/plain": [
       "['one', 'two', 3, 'ultimo']"
      ]
     },
     "execution_count": 18,
     "metadata": {},
     "output_type": "execute_result"
    }
   ],
   "execution_count": 18
  },
  {
   "cell_type": "markdown",
   "metadata": {
    "id": "IUE8vrCEq7MX"
   },
   "source": [
    "Remove Operation by index"
   ]
  },
  {
   "cell_type": "code",
   "source": [
    "#It is possible to pass the address within the parentheses to remove a specific item\n",
    "#the pop always returns the item that was removed from the list\n",
    "#remove item from index 2\n",
    "list_array.pop(2)\n",
    "list_array"
   ],
   "metadata": {
    "colab": {
     "base_uri": "https://localhost:8080/"
    },
    "id": "hVMOhMFz-rVv",
    "executionInfo": {
     "status": "ok",
     "timestamp": 1725839894797,
     "user_tz": -60,
     "elapsed": 251,
     "user": {
      "displayName": "Zuil Filho",
      "userId": "14731231616780016906"
     }
    },
    "outputId": "8bd95b51-8b6e-469e-ec85-5e7fe48c5268",
    "ExecuteTime": {
     "end_time": "2025-09-08T19:58:36.754595Z",
     "start_time": "2025-09-08T19:58:36.747301Z"
    }
   },
   "outputs": [
    {
     "data": {
      "text/plain": [
       "['one', 'two', 'ultimo']"
      ]
     },
     "execution_count": 21,
     "metadata": {},
     "output_type": "execute_result"
    }
   ],
   "execution_count": 21
  },
  {
   "cell_type": "code",
   "source": [
    "#whe can use also 'del' method\n",
    "#try to remove a item from the list\n",
    "del list_array[0]\n",
    "list_array"
   ],
   "metadata": {
    "colab": {
     "base_uri": "https://localhost:8080/"
    },
    "id": "qowPhY60BswI",
    "executionInfo": {
     "status": "ok",
     "timestamp": 1725839900679,
     "user_tz": -60,
     "elapsed": 235,
     "user": {
      "displayName": "Zuil Filho",
      "userId": "14731231616780016906"
     }
    },
    "outputId": "254fa88c-5deb-48dc-80b6-a6522a19ffb9",
    "ExecuteTime": {
     "end_time": "2025-09-08T20:00:00.126607Z",
     "start_time": "2025-09-08T20:00:00.119544Z"
    }
   },
   "outputs": [
    {
     "data": {
      "text/plain": [
       "['two', 'ultimo']"
      ]
     },
     "execution_count": 23,
     "metadata": {},
     "output_type": "execute_result"
    }
   ],
   "execution_count": 23
  },
  {
   "cell_type": "markdown",
   "metadata": {
    "id": "x6D0H_Zrq7MX"
   },
   "source": [
    "Size of list"
   ]
  },
  {
   "cell_type": "code",
   "metadata": {
    "colab": {
     "base_uri": "https://localhost:8080/"
    },
    "id": "xGErqa9Vq7MY",
    "executionInfo": {
     "status": "ok",
     "timestamp": 1725980449760,
     "user_tz": -60,
     "elapsed": 291,
     "user": {
      "displayName": "Zuil Filho",
      "userId": "14731231616780016906"
     }
    },
    "outputId": "1b62753d-3ecf-4e60-f0a3-090a20c69322",
    "ExecuteTime": {
     "end_time": "2025-09-08T20:00:07.491185Z",
     "start_time": "2025-09-08T20:00:07.484278Z"
    }
   },
   "source": [
    "#We can quickly get the size of a list using 'len'\n",
    "#What is the final size of the list after the various removals?\n",
    "len(list_array)"
   ],
   "outputs": [
    {
     "data": {
      "text/plain": [
       "2"
      ]
     },
     "execution_count": 24,
     "metadata": {},
     "output_type": "execute_result"
    }
   ],
   "execution_count": 24
  },
  {
   "cell_type": "markdown",
   "metadata": {
    "id": "mXIgdnIgq7MZ"
   },
   "source": [
    "Indexing or **Slicing** List"
   ]
  },
  {
   "cell_type": "markdown",
   "metadata": {
    "id": "c0zUInjMq7MZ"
   },
   "source": [
    "```python\n",
    "start:end(exclusive):step\n",
    "```"
   ]
  },
  {
   "cell_type": "markdown",
   "metadata": {
    "id": "OSSCUF96q7Ma"
   },
   "source": [
    "From first to second, all values"
   ]
  },
  {
   "cell_type": "code",
   "metadata": {
    "colab": {
     "base_uri": "https://localhost:8080/"
    },
    "id": "t0wRKnLwq7Ma",
    "executionInfo": {
     "status": "ok",
     "timestamp": 1725980561707,
     "user_tz": -60,
     "elapsed": 274,
     "user": {
      "displayName": "Zuil Filho",
      "userId": "14731231616780016906"
     }
    },
    "outputId": "487da267-3ce1-48ce-cfa3-b8b994efcb05",
    "ExecuteTime": {
     "end_time": "2025-09-08T20:00:48.509034Z",
     "start_time": "2025-09-08T20:00:48.501672Z"
    }
   },
   "source": [
    "#Initially, create a list with 5 elements\n",
    "#Then, print the first 3 elements using slice\n",
    "a = [1,2,3,4,5]\n",
    "a[0:3]"
   ],
   "outputs": [
    {
     "data": {
      "text/plain": [
       "[1, 2, 3]"
      ]
     },
     "execution_count": 28,
     "metadata": {},
     "output_type": "execute_result"
    }
   ],
   "execution_count": 28
  },
  {
   "cell_type": "markdown",
   "metadata": {
    "id": "nFIjMPlAq7Ma"
   },
   "source": [
    "From first to last, every two values"
   ]
  },
  {
   "cell_type": "code",
   "metadata": {
    "colab": {
     "base_uri": "https://localhost:8080/"
    },
    "id": "IZvXv-Jrq7Ma",
    "executionInfo": {
     "status": "ok",
     "timestamp": 1725980564226,
     "user_tz": -60,
     "elapsed": 277,
     "user": {
      "displayName": "Zuil Filho",
      "userId": "14731231616780016906"
     }
    },
    "outputId": "d2842267-aa79-48f9-e6c9-789cec93a37a",
    "ExecuteTime": {
     "end_time": "2025-09-08T20:01:02.771745Z",
     "start_time": "2025-09-08T20:01:02.764017Z"
    }
   },
   "source": [
    "#now do a slice starting from the first 3 elements, skipping 2 by 2\n",
    "a[0:3:2]"
   ],
   "outputs": [
    {
     "data": {
      "text/plain": [
       "[1, 3]"
      ]
     },
     "execution_count": 29,
     "metadata": {},
     "output_type": "execute_result"
    }
   ],
   "execution_count": 29
  },
  {
   "cell_type": "markdown",
   "metadata": {
    "id": "KzO2gG8Jq7Ma"
   },
   "source": [
    "---\n",
    "#### Range"
   ]
  },
  {
   "cell_type": "code",
   "metadata": {
    "colab": {
     "base_uri": "https://localhost:8080/"
    },
    "id": "GMPLAo61q7Ma",
    "executionInfo": {
     "status": "ok",
     "timestamp": 1725980570980,
     "user_tz": -60,
     "elapsed": 261,
     "user": {
      "displayName": "Zuil Filho",
      "userId": "14731231616780016906"
     }
    },
    "outputId": "c8fd9e2f-4120-4cfc-f6b8-5df5b1ffefae",
    "ExecuteTime": {
     "end_time": "2025-09-08T20:02:27.496568Z",
     "start_time": "2025-09-08T20:02:27.488476Z"
    }
   },
   "source": [
    "#range is used to create lists of sequential numbers\n",
    "#try the range(4)\n",
    "#how can you print a range?\n",
    "b = [i for i in range(1,5)]\n",
    "b"
   ],
   "outputs": [
    {
     "data": {
      "text/plain": [
       "[1, 2, 3, 4]"
      ]
     },
     "execution_count": 32,
     "metadata": {},
     "output_type": "execute_result"
    }
   ],
   "execution_count": 32
  },
  {
   "cell_type": "code",
   "source": [
    "#Create also a range from 2 up to 7 (7 not included)\n",
    "c = [i for i in range(2,7)]\n",
    "c"
   ],
   "metadata": {
    "colab": {
     "base_uri": "https://localhost:8080/"
    },
    "id": "iUUypNvyIA0w",
    "executionInfo": {
     "status": "ok",
     "timestamp": 1725980594237,
     "user_tz": -60,
     "elapsed": 268,
     "user": {
      "displayName": "Zuil Filho",
      "userId": "14731231616780016906"
     }
    },
    "outputId": "cd88198f-eb68-46d2-8d32-7b5b4751b957",
    "ExecuteTime": {
     "end_time": "2025-09-08T20:02:50.898593Z",
     "start_time": "2025-09-08T20:02:50.891326Z"
    }
   },
   "outputs": [
    {
     "data": {
      "text/plain": [
       "[2, 3, 4, 5, 6]"
      ]
     },
     "execution_count": 33,
     "metadata": {},
     "output_type": "execute_result"
    }
   ],
   "execution_count": 33
  },
  {
   "cell_type": "markdown",
   "metadata": {
    "id": "WB4ER7Mhq7Mb"
   },
   "source": [
    "---\n",
    "#### Tuples"
   ]
  },
  {
   "cell_type": "code",
   "metadata": {
    "id": "NQ10YG41q7Mb",
    "colab": {
     "base_uri": "https://localhost:8080/"
    },
    "executionInfo": {
     "status": "ok",
     "timestamp": 1725981298301,
     "user_tz": -60,
     "elapsed": 440,
     "user": {
      "displayName": "Zuil Filho",
      "userId": "14731231616780016906"
     }
    },
    "outputId": "f0f49e85-ff4c-4840-8c01-4bf48e798717",
    "ExecuteTime": {
     "end_time": "2025-09-08T20:03:08.278254Z",
     "start_time": "2025-09-08T20:03:08.270561Z"
    }
   },
   "source": [
    "#Tuples are a type of data that are stored data together and linked\n",
    "#Tuples are created using regular parentheses\n",
    "#create a tuple (\"one\", \"two\", \"three\")\n",
    "d = (\"one\", \"two\", \"three\")\n",
    "d"
   ],
   "outputs": [
    {
     "data": {
      "text/plain": [
       "('one', 'two', 'three')"
      ]
     },
     "execution_count": 34,
     "metadata": {},
     "output_type": "execute_result"
    }
   ],
   "execution_count": 34
  },
  {
   "cell_type": "code",
   "source": [
    "#it is possible to access a tuple value by passing the address inside []\n",
    "#Try to access the second element of the tuple.\n",
    "d[1]"
   ],
   "metadata": {
    "colab": {
     "base_uri": "https://localhost:8080/",
     "height": 56
    },
    "id": "dFcdmO29d729",
    "executionInfo": {
     "status": "ok",
     "timestamp": 1725981299712,
     "user_tz": -60,
     "elapsed": 261,
     "user": {
      "displayName": "Zuil Filho",
      "userId": "14731231616780016906"
     }
    },
    "outputId": "6bef244e-3b7e-4d15-e3dc-c5d51e733765",
    "ExecuteTime": {
     "end_time": "2025-09-08T20:03:58.866657Z",
     "start_time": "2025-09-08T20:03:58.858632Z"
    }
   },
   "outputs": [
    {
     "data": {
      "text/plain": [
       "'two'"
      ]
     },
     "execution_count": 35,
     "metadata": {},
     "output_type": "execute_result"
    }
   ],
   "execution_count": 35
  },
  {
   "cell_type": "markdown",
   "metadata": {
    "id": "b3AmUnREq7Mb"
   },
   "source": [
    "Tuples are immutable! For example, if you try to update or delete one value it will return an error"
   ]
  },
  {
   "cell_type": "code",
   "metadata": {
    "id": "BKGA0rriq7Mb",
    "colab": {
     "base_uri": "https://localhost:8080/",
     "height": 192
    },
    "executionInfo": {
     "status": "error",
     "timestamp": 1725981303762,
     "user_tz": -60,
     "elapsed": 6,
     "user": {
      "displayName": "Zuil Filho",
      "userId": "14731231616780016906"
     }
    },
    "outputId": "4cc34f2e-c8d6-46f4-d5dc-4ba47b8564e8",
    "ExecuteTime": {
     "end_time": "2025-09-08T20:04:10.261102Z",
     "start_time": "2025-09-08T20:04:10.224385Z"
    }
   },
   "source": [
    "#It is not possible to update a value in a tuple\n",
    "#try to change the second element of the tuple using \"=\"\n",
    "d[1] = 2\n",
    "d"
   ],
   "outputs": [
    {
     "ename": "TypeError",
     "evalue": "'tuple' object does not support item assignment",
     "output_type": "error",
     "traceback": [
      "\u001B[31m---------------------------------------------------------------------------\u001B[39m",
      "\u001B[31mTypeError\u001B[39m                                 Traceback (most recent call last)",
      "\u001B[36mCell\u001B[39m\u001B[36m \u001B[39m\u001B[32mIn[36]\u001B[39m\u001B[32m, line 3\u001B[39m\n\u001B[32m      1\u001B[39m \u001B[38;5;66;03m#It is not possible to update a value in a tuple\u001B[39;00m\n\u001B[32m      2\u001B[39m \u001B[38;5;66;03m#try to change the second element of the tuple using \"=\"\u001B[39;00m\n\u001B[32m----> \u001B[39m\u001B[32m3\u001B[39m \u001B[43md\u001B[49m\u001B[43m[\u001B[49m\u001B[32;43m1\u001B[39;49m\u001B[43m]\u001B[49m = \u001B[32m2\u001B[39m\n\u001B[32m      4\u001B[39m d\n",
      "\u001B[31mTypeError\u001B[39m: 'tuple' object does not support item assignment"
     ]
    }
   ],
   "execution_count": 36
  },
  {
   "cell_type": "markdown",
   "metadata": {
    "id": "j68QFU8cq7Mb"
   },
   "source": [
    "Adding elements to a tuple creates a new one"
   ]
  },
  {
   "cell_type": "code",
   "metadata": {
    "id": "YHIJ3rGmq7Mb",
    "colab": {
     "base_uri": "https://localhost:8080/"
    },
    "executionInfo": {
     "status": "ok",
     "timestamp": 1725981536542,
     "user_tz": -60,
     "elapsed": 688,
     "user": {
      "displayName": "Zuil Filho",
      "userId": "14731231616780016906"
     }
    },
    "outputId": "af964f6c-747a-4940-f5ca-2d562fb9da7a",
    "ExecuteTime": {
     "end_time": "2025-09-08T20:11:07.976507Z",
     "start_time": "2025-09-08T20:11:07.970250Z"
    }
   },
   "source": [
    "#one solution would be to create a new tuple from an existing one\n",
    "#add a tuple piece (23,) to the tuple you have just created and create a new tuple called a_second_tuple\"\n",
    "a_second_tuple = d + (23,)\n",
    "a_second_tuple\n",
    "#However, it is important to emphasize that the first tuple continues to exist and remains immutable.\n"
   ],
   "outputs": [
    {
     "data": {
      "text/plain": [
       "('one', 'two', 'three', 23)"
      ]
     },
     "execution_count": 39,
     "metadata": {},
     "output_type": "execute_result"
    }
   ],
   "execution_count": 39
  },
  {
   "cell_type": "markdown",
   "metadata": {
    "id": "G25cTYpCq7Mb"
   },
   "source": [
    "Memory address of each variable"
   ]
  },
  {
   "cell_type": "code",
   "metadata": {
    "id": "FedVk6aAq7Mb",
    "colab": {
     "base_uri": "https://localhost:8080/"
    },
    "executionInfo": {
     "status": "ok",
     "timestamp": 1725981684565,
     "user_tz": -60,
     "elapsed": 302,
     "user": {
      "displayName": "Zuil Filho",
      "userId": "14731231616780016906"
     }
    },
    "outputId": "25a455de-12f9-4460-eb1f-9640728d6adb",
    "ExecuteTime": {
     "end_time": "2025-09-08T20:11:53.193374Z",
     "start_time": "2025-09-08T20:11:53.186770Z"
    }
   },
   "source": [
    "#to prove this, we can access the address of the tuples using the id() method\n",
    "#test both created tuples to see if the addresses are different\n",
    "id(a_second_tuple)"
   ],
   "outputs": [
    {
     "data": {
      "text/plain": [
       "2189330017680"
      ]
     },
     "execution_count": 40,
     "metadata": {},
     "output_type": "execute_result"
    }
   ],
   "execution_count": 40
  },
  {
   "cell_type": "markdown",
   "metadata": {
    "id": "PoOD8JHkq7Mb"
   },
   "source": [
    "---"
   ]
  },
  {
   "cell_type": "markdown",
   "metadata": {
    "id": "X6GGm8xJq7Mb"
   },
   "source": [
    "### Mapping Types"
   ]
  },
  {
   "cell_type": "markdown",
   "metadata": {
    "id": "--4dLqwEq7Mb"
   },
   "source": [
    "#### Dictionary"
   ]
  },
  {
   "cell_type": "markdown",
   "metadata": {
    "id": "BpyyKP7Dq7Mb"
   },
   "source": [
    "A dictionary is a mapping object composed of *keys* and *values* and *keys* need to hashable (lists and dictionaries are not)\n",
    "\n",
    "For example `{'data': 0, 'science': 0}`\n"
   ]
  },
  {
   "cell_type": "code",
   "metadata": {
    "id": "zi1s3tvDq7Mc",
    "colab": {
     "base_uri": "https://localhost:8080/"
    },
    "executionInfo": {
     "status": "ok",
     "timestamp": 1725985634368,
     "user_tz": -60,
     "elapsed": 309,
     "user": {
      "displayName": "Zuil Filho",
      "userId": "14731231616780016906"
     }
    },
    "outputId": "4f78a8bc-d8bb-4a72-e53d-4bc5b20cc660",
    "ExecuteTime": {
     "end_time": "2025-09-08T20:12:01.315739Z",
     "start_time": "2025-09-08T20:12:01.310013Z"
    }
   },
   "source": [
    "#create a dictionary\n",
    "#use dict() or {}\n",
    "#test both ways\n",
    "a_dict = dict()\n",
    "\n",
    "#test using type(), the dictionary you just created\n",
    "print(type(a_dict))"
   ],
   "outputs": [
    {
     "name": "stdout",
     "output_type": "stream",
     "text": [
      "<class 'dict'>\n"
     ]
    }
   ],
   "execution_count": 41
  },
  {
   "cell_type": "markdown",
   "metadata": {
    "id": "NAI5q5G2q7Mc"
   },
   "source": [
    "Access the value of a key"
   ]
  },
  {
   "cell_type": "code",
   "metadata": {
    "id": "0SnhXdkHq7Mc",
    "colab": {
     "base_uri": "https://localhost:8080/"
    },
    "executionInfo": {
     "status": "ok",
     "timestamp": 1725985638204,
     "user_tz": -60,
     "elapsed": 550,
     "user": {
      "displayName": "Zuil Filho",
      "userId": "14731231616780016906"
     }
    },
    "outputId": "16781542-ad70-44fc-bcec-3d79898ea3c2",
    "ExecuteTime": {
     "end_time": "2025-09-08T20:12:13.310831Z",
     "start_time": "2025-09-08T20:12:13.303777Z"
    }
   },
   "source": [
    "#dictionaries accept various types of values\n",
    "#keys need to be hashable\n",
    "#create a dictionary a_dict = {'data': 2, 1: 2, 'science': 4}\n",
    "a_dict = {'data': 2, 1: 2, 'science': 4}\n",
    "a_dict\n",
    "\n",
    "#Note that the keys are not of the same type."
   ],
   "outputs": [
    {
     "data": {
      "text/plain": [
       "{'data': 2, 1: 2, 'science': 4}"
      ]
     },
     "execution_count": 42,
     "metadata": {},
     "output_type": "execute_result"
    }
   ],
   "execution_count": 42
  },
  {
   "cell_type": "code",
   "source": [
    "#acesse o value contido na key 'data'\n",
    "a_dict['data']"
   ],
   "metadata": {
    "colab": {
     "base_uri": "https://localhost:8080/"
    },
    "id": "FI7jebawwPWE",
    "executionInfo": {
     "status": "ok",
     "timestamp": 1725985642457,
     "user_tz": -60,
     "elapsed": 556,
     "user": {
      "displayName": "Zuil Filho",
      "userId": "14731231616780016906"
     }
    },
    "outputId": "61490e8a-9bf5-43f4-9f9b-d081fc27c57d",
    "ExecuteTime": {
     "end_time": "2025-09-08T20:12:20.335483Z",
     "start_time": "2025-09-08T20:12:20.329032Z"
    }
   },
   "outputs": [
    {
     "data": {
      "text/plain": [
       "2"
      ]
     },
     "execution_count": 43,
     "metadata": {},
     "output_type": "execute_result"
    }
   ],
   "execution_count": 43
  },
  {
   "cell_type": "markdown",
   "metadata": {
    "id": "HeRmdtT0q7Mc"
   },
   "source": [
    "Delete entry with the key ```data```"
   ]
  },
  {
   "cell_type": "code",
   "metadata": {
    "id": "0nvgnOUMq7Mc",
    "colab": {
     "base_uri": "https://localhost:8080/"
    },
    "executionInfo": {
     "status": "ok",
     "timestamp": 1725985650871,
     "user_tz": -60,
     "elapsed": 6,
     "user": {
      "displayName": "Zuil Filho",
      "userId": "14731231616780016906"
     }
    },
    "outputId": "c9d902c2-cc88-4501-d2f1-b3b63be77594",
    "ExecuteTime": {
     "end_time": "2025-09-08T20:12:42.688485Z",
     "start_time": "2025-09-08T20:12:42.681480Z"
    }
   },
   "source": [
    "#It is possible to delete a value from a dict using the del function\n",
    "#delete the data contained in the key data and print the dictionary\n",
    "del a_dict['data']\n",
    "print (a_dict)"
   ],
   "outputs": [
    {
     "name": "stdout",
     "output_type": "stream",
     "text": [
      "{1: 2, 'science': 4}\n"
     ]
    }
   ],
   "execution_count": 44
  },
  {
   "cell_type": "markdown",
   "metadata": {
    "id": "vXvTNsIwq7Mc"
   },
   "source": [
    "---"
   ]
  },
  {
   "cell_type": "markdown",
   "metadata": {
    "id": "0vxbyPFoq7Mc"
   },
   "source": [
    "## Operator \"in\""
   ]
  },
  {
   "cell_type": "code",
   "metadata": {
    "scrolled": true,
    "id": "7m5UbX6dq7Mc",
    "colab": {
     "base_uri": "https://localhost:8080/"
    },
    "executionInfo": {
     "status": "ok",
     "timestamp": 1725985751999,
     "user_tz": -60,
     "elapsed": 5,
     "user": {
      "displayName": "Zuil Filho",
      "userId": "14731231616780016906"
     }
    },
    "outputId": "2471e8d0-e428-4369-dda5-1cb8a11608a2",
    "ExecuteTime": {
     "end_time": "2025-09-08T20:13:14.522714Z",
     "start_time": "2025-09-08T20:13:14.516838Z"
    }
   },
   "source": [
    "#test if the float 0.5 is in list a=[ 1, 2, 3, 4] using \"in\"\n",
    "a=[ 1, 2, 3, 4]\n",
    "0.5 in a"
   ],
   "outputs": [
    {
     "data": {
      "text/plain": [
       "False"
      ]
     },
     "execution_count": 46,
     "metadata": {},
     "output_type": "execute_result"
    }
   ],
   "execution_count": 46
  },
  {
   "cell_type": "markdown",
   "metadata": {
    "id": "SSfYiu_Gq7Mc"
   },
   "source": [
    "---"
   ]
  },
  {
   "cell_type": "markdown",
   "metadata": {
    "id": "tmcYOPRGq7Mc"
   },
   "source": [
    "## Control Flow Tools"
   ]
  },
  {
   "cell_type": "markdown",
   "metadata": {
    "id": "hKElzx0rq7Mc"
   },
   "source": [
    "### For Statements"
   ]
  },
  {
   "cell_type": "markdown",
   "metadata": {
    "id": "iF4dGBrdq7Mc"
   },
   "source": [
    "```python\n",
    "for <var> in <iterable>:\n",
    "    <statement(s)>\n",
    "```"
   ]
  },
  {
   "cell_type": "code",
   "metadata": {
    "id": "hUPfvPGIq7Md",
    "colab": {
     "base_uri": "https://localhost:8080/"
    },
    "executionInfo": {
     "status": "ok",
     "timestamp": 1725986282245,
     "user_tz": -60,
     "elapsed": 258,
     "user": {
      "displayName": "Zuil Filho",
      "userId": "14731231616780016906"
     }
    },
    "outputId": "df73a4f9-08ca-4d0c-ac3a-d8331213bfa2",
    "ExecuteTime": {
     "end_time": "2025-09-08T20:13:45.041564Z",
     "start_time": "2025-09-08T20:13:45.036126Z"
    }
   },
   "source": [
    "#for loop will interact with an object and return all parts of that object\n",
    "#using the structure above, create a for loop that iterates over the list [1,2,3,5] and print the values\n",
    "for x in a:\n",
    "    print(x)\n"
   ],
   "outputs": [
    {
     "name": "stdout",
     "output_type": "stream",
     "text": [
      "1\n",
      "2\n",
      "3\n",
      "4\n"
     ]
    }
   ],
   "execution_count": 47
  },
  {
   "cell_type": "markdown",
   "metadata": {
    "id": "wlJx8DiLq7Md"
   },
   "source": [
    "#### range is often used as the iterable\n",
    "\n",
    "```python\n",
    "    for <var> in range(limit):\n",
    "        <statement(s)>\n",
    "```"
   ]
  },
  {
   "cell_type": "code",
   "metadata": {
    "id": "BnB18Lafq7Md",
    "colab": {
     "base_uri": "https://localhost:8080/"
    },
    "executionInfo": {
     "status": "ok",
     "timestamp": 1725986285198,
     "user_tz": -60,
     "elapsed": 247,
     "user": {
      "displayName": "Zuil Filho",
      "userId": "14731231616780016906"
     }
    },
    "outputId": "6674e126-2330-43c6-87ad-81d4d63d7134",
    "ExecuteTime": {
     "end_time": "2025-09-08T20:14:26.380886Z",
     "start_time": "2025-09-08T20:14:26.374685Z"
    }
   },
   "source": [
    "#We can even use a range and manipulate the addresses of a list\n",
    "#using the len() function, create a for loop with range that prints the addresses of the list [1,2,3,5]\n",
    "for x in range(1,5):\n",
    "    print(x)\n"
   ],
   "outputs": [
    {
     "name": "stdout",
     "output_type": "stream",
     "text": [
      "1\n",
      "2\n",
      "3\n",
      "4\n"
     ]
    }
   ],
   "execution_count": 48
  },
  {
   "cell_type": "markdown",
   "metadata": {
    "id": "BpymUN6jq7Md"
   },
   "source": [
    "### If Statements"
   ]
  },
  {
   "cell_type": "markdown",
   "metadata": {
    "id": "vU9iTEg9q7Md"
   },
   "source": [
    "```python\n",
    "    if <expr>:\n",
    "        <statement>\n",
    "    elif <expr>:\n",
    "        <statement>\n",
    "    else:\n",
    "        <statement>\n",
    "```"
   ]
  },
  {
   "cell_type": "markdown",
   "metadata": {
    "id": "NafO_Lcuq7Md"
   },
   "source": [
    "`expr` is an expression evaluated in a Boolean context\n",
    "    \n",
    "`statement` is a valid Python statement, which must be indented"
   ]
  },
  {
   "cell_type": "code",
   "metadata": {
    "id": "CUOFtT3Gq7Md",
    "colab": {
     "base_uri": "https://localhost:8080/"
    },
    "executionInfo": {
     "status": "ok",
     "timestamp": 1725986408142,
     "user_tz": -60,
     "elapsed": 241,
     "user": {
      "displayName": "Zuil Filho",
      "userId": "14731231616780016906"
     }
    },
    "outputId": "c8d33a85-c289-40f9-c34c-f5dd5903183a",
    "ExecuteTime": {
     "end_time": "2025-09-08T20:15:29.872771Z",
     "start_time": "2025-09-08T20:15:29.867859Z"
    }
   },
   "source": [
    "#If in Python works just like in other languages but without the need for '()' or '{}'\n",
    "#It is mandatory to indent the if structure for it to work\n",
    "#Create an if statement that tests if 2 > 4. If true, print 'yes', otherwise print 'no'\n",
    "if 6 > 4:\n",
    "    print('true')\n",
    "else:\n",
    "    print('false')"
   ],
   "outputs": [
    {
     "name": "stdout",
     "output_type": "stream",
     "text": [
      "true\n"
     ]
    }
   ],
   "execution_count": 50
  },
  {
   "cell_type": "markdown",
   "metadata": {
    "id": "trPPHaLaq7Md"
   },
   "source": [
    "### List Comprehensions"
   ]
  },
  {
   "cell_type": "markdown",
   "metadata": {
    "id": "S9-OBmhBq7Md"
   },
   "source": [
    "Create lists with elements with a single statement\n",
    "\n",
    "```python\n",
    "[ expression for a_value in a_collection ]\n",
    "\n",
    "```"
   ]
  },
  {
   "cell_type": "code",
   "metadata": {
    "id": "qy2e6NjKq7Md",
    "colab": {
     "base_uri": "https://localhost:8080/"
    },
    "executionInfo": {
     "status": "ok",
     "timestamp": 1725986560003,
     "user_tz": -60,
     "elapsed": 255,
     "user": {
      "displayName": "Zuil Filho",
      "userId": "14731231616780016906"
     }
    },
    "outputId": "ab14ba23-fd42-4ad4-d67f-ddf934ab14db",
    "ExecuteTime": {
     "end_time": "2025-09-08T20:17:35.761282Z",
     "start_time": "2025-09-08T20:17:35.755483Z"
    }
   },
   "source": [
    "#create a loop structure that iterates over the list [1,2,3,4,5] and prints the values +10 Ex: [11,12,13,14,15]\n",
    "a = [1,2,3,4,5]\n",
    "for x in a:\n",
    "    print(x + 10)\n",
    "\n",
    "\n",
    "#now using list comprehensions, create the same structure as above\n",
    "\n",
    "a = [print(i+10) for i in range(1,6)]\n"
   ],
   "outputs": [
    {
     "name": "stdout",
     "output_type": "stream",
     "text": [
      "11\n",
      "12\n",
      "13\n",
      "14\n",
      "15\n",
      "11\n",
      "12\n",
      "13\n",
      "14\n",
      "15\n"
     ]
    }
   ],
   "execution_count": 53
  },
  {
   "cell_type": "markdown",
   "metadata": {
    "id": "yirlRRaVq7Md"
   },
   "source": [
    "List comprehension with conditions\n",
    "\n",
    "```python\n",
    "[ expression for a_value in a_collection if condition ]\n",
    "\n",
    "```"
   ]
  },
  {
   "cell_type": "code",
   "metadata": {
    "id": "MtGhU28Iq7Md",
    "colab": {
     "base_uri": "https://localhost:8080/"
    },
    "executionInfo": {
     "status": "ok",
     "timestamp": 1725986641987,
     "user_tz": -60,
     "elapsed": 234,
     "user": {
      "displayName": "Zuil Filho",
      "userId": "14731231616780016906"
     }
    },
    "outputId": "047f467e-9da2-4428-a9c4-eb6003f3f1dc",
    "ExecuteTime": {
     "end_time": "2025-09-08T20:20:55.065298Z",
     "start_time": "2025-09-08T20:20:55.058795Z"
    }
   },
   "source": [
    "#Following the same structure above, now print the number plus 10 for only the values greater than 3 in the list [1, 2, 3, 4, 5].\n",
    "b = [i for i in range(1,6)]\n",
    "for i in b:\n",
    "    if i > 3:\n",
    "        print(i+10)\n"
   ],
   "outputs": [
    {
     "name": "stdout",
     "output_type": "stream",
     "text": [
      "14\n",
      "15\n"
     ]
    }
   ],
   "execution_count": 59
  },
  {
   "cell_type": "markdown",
   "metadata": {
    "id": "9supx-Ddq7Md"
   },
   "source": [
    "---"
   ]
  },
  {
   "cell_type": "markdown",
   "metadata": {
    "id": "cbteLWXZq7Md"
   },
   "source": [
    "## Functions"
   ]
  },
  {
   "cell_type": "code",
   "metadata": {
    "id": "Jx-BZ3Rtq7Me",
    "ExecuteTime": {
     "end_time": "2025-09-08T20:21:03.465230Z",
     "start_time": "2025-09-08T20:21:03.459574Z"
    }
   },
   "source": [
    "def functionName(argument_one, argument_two):\n",
    "    \"\"\"\n",
    "    Comment what it does\n",
    "    \"\"\"\n",
    "\n",
    "\n",
    "    do_stuff\n",
    "\n",
    "    return value\n"
   ],
   "outputs": [],
   "execution_count": 60
  },
  {
   "cell_type": "code",
   "metadata": {
    "id": "D6RWQhs-q7Me"
   },
   "source": [
    "functionName?"
   ],
   "outputs": [],
   "execution_count": null
  },
  {
   "cell_type": "markdown",
   "metadata": {
    "id": "LRxN-p0Gq7Me"
   },
   "source": [
    "### Call a function"
   ]
  },
  {
   "cell_type": "markdown",
   "metadata": {
    "id": "Zsi5B__Xq7Me"
   },
   "source": [
    "```python\n",
    "functionName(argument_one, argument_two)\n",
    "```"
   ]
  },
  {
   "cell_type": "code",
   "metadata": {
    "id": "8NkBf0bmq7Me",
    "ExecuteTime": {
     "end_time": "2025-09-08T20:22:03.473124Z",
     "start_time": "2025-09-08T20:22:03.465221Z"
    }
   },
   "source": [
    "#using the structure above, create a function that takes two numbers as parameters and returns their sum\n",
    "\n",
    "def sum(a,b):\n",
    "    return a+b\n"
   ],
   "outputs": [
    {
     "data": {
      "text/plain": [
       "3"
      ]
     },
     "execution_count": 62,
     "metadata": {},
     "output_type": "execute_result"
    }
   ],
   "execution_count": 62
  },
  {
   "metadata": {},
   "cell_type": "markdown",
   "source": ""
  },
  {
   "cell_type": "markdown",
   "metadata": {
    "id": "zrl_XQnxq7Me"
   },
   "source": [
    "### Built-in Functions\n",
    "\n",
    "We have already used some. But there are more:\n",
    "\n",
    "https://docs.python.org/3/library/functions.html"
   ]
  },
  {
   "cell_type": "markdown",
   "metadata": {
    "id": "2y5jiV3_q7Me"
   },
   "source": [
    "## Code Standards"
   ]
  },
  {
   "cell_type": "markdown",
   "metadata": {
    "id": "2JZi1Uy5q7Me"
   },
   "source": [
    "[PEP 8: Function and Variable Names](https://www.python.org/dev/peps/pep-0008/#function-and-variable-names)  \n",
    "\n",
    "**Summary**\n",
    " - Use Snake case in functions and variables, lowercase with words separated by underscores as necessary to improve readability\n",
    "     - data_science  \n",
    "\n",
    "\n",
    " - For constants use all capital letters with underscores separating words\n",
    "     - DATA_SCIENCE  \n",
    "\n",
    "\n",
    " - Use CapWords convention for classes\n",
    "     - DataScience"
   ]
  },
  {
   "cell_type": "markdown",
   "metadata": {
    "id": "rC-2j2O6w8o8"
   },
   "source": [
    "# Challenges - Part I\n",
    "\n",
    "**Cosine similarity from scratch**\n",
    "\n",
    "\n",
    "## Question 1/6\n",
    "\n",
    "The dot product between two vectors $v1$ e $v2$ of size $n$ is defined as:\n",
    "\n",
    "$$\\sum_{i=1}^n v1_i . v2_i $$\n",
    "\n",
    "Create a `for` loop necessary to compute the dot product between any two vectors of the same size.\n",
    "\n"
   ]
  },
  {
   "cell_type": "code",
   "metadata": {
    "id": "4B656RuZq7Me",
    "colab": {
     "base_uri": "https://localhost:8080/"
    },
    "executionInfo": {
     "status": "ok",
     "timestamp": 1725986791797,
     "user_tz": -60,
     "elapsed": 283,
     "user": {
      "displayName": "Zuil Filho",
      "userId": "14731231616780016906"
     }
    },
    "outputId": "27275066-2b07-40af-da22-8f48539ec014",
    "ExecuteTime": {
     "end_time": "2025-09-08T20:36:49.841730Z",
     "start_time": "2025-09-08T20:36:49.834181Z"
    }
   },
   "source": [
    "# SOLUTION 1\n",
    "\n",
    "# creating the two vectors\n",
    "v1 = [1,2,3,4]\n",
    "v2 = [3,2,5,4]\n",
    "\n",
    "result = 0\n",
    "for index,value in enumerate(v1):\n",
    "    result += v1[index] * v2[index]\n",
    "result"
   ],
   "outputs": [
    {
     "data": {
      "text/plain": [
       "38"
      ]
     },
     "execution_count": 3,
     "metadata": {},
     "output_type": "execute_result"
    }
   ],
   "execution_count": 3
  },
  {
   "cell_type": "markdown",
   "metadata": {
    "id": "l40MIkKu0N2v"
   },
   "source": [
    "## Question 2/6\n",
    "\n",
    "Try using the built-in function `zip`. Pass vectors `v1` and `v2` as parameters.\n",
    "\n",
    "**Note.** `zip` produces an object of class `zip`, but we can cast it as a `list` using the built-in function `list()` on that object"
   ]
  },
  {
   "cell_type": "code",
   "metadata": {
    "id": "pSufwTO8ygIJ",
    "colab": {
     "base_uri": "https://localhost:8080/"
    },
    "executionInfo": {
     "status": "ok",
     "timestamp": 1725986809027,
     "user_tz": -60,
     "elapsed": 290,
     "user": {
      "displayName": "Zuil Filho",
      "userId": "14731231616780016906"
     }
    },
    "outputId": "2e02ef87-2e66-4df0-fb92-dd8448e1c905",
    "ExecuteTime": {
     "end_time": "2025-09-08T20:27:26.217852Z",
     "start_time": "2025-09-08T20:27:26.207698Z"
    }
   },
   "source": [
    "list_2=list(zip(v1,v2))\n",
    "list_2\n"
   ],
   "outputs": [
    {
     "data": {
      "text/plain": [
       "[(1, 3), (2, 2), (3, 5), (4, 4)]"
      ]
     },
     "execution_count": 2,
     "metadata": {},
     "output_type": "execute_result"
    }
   ],
   "execution_count": 2
  },
  {
   "cell_type": "markdown",
   "metadata": {
    "id": "vlwN-22X1NHq"
   },
   "source": [
    "Based on the result obtained explain what the `zip`function does."
   ]
  },
  {
   "cell_type": "code",
   "metadata": {
    "id": "GjhUw2ZPq7Mf"
   },
   "source": "Junta os elementos em tuplas\n",
   "outputs": [],
   "execution_count": null
  },
  {
   "cell_type": "markdown",
   "metadata": {
    "id": "AxZpYu9uq7Mf"
   },
   "source": [
    "---\n",
    "## Question 3/6\n",
    "\n",
    "Try using the built-in funcion `zip()` to compute the dot product in single line of code.\n",
    "\n",
    "- **Hint 1:** use a list comprehension\n",
    "- **Hint 2:** use the built-in function `sum()` to obtain the sum of all values of a list"
   ]
  },
  {
   "cell_type": "code",
   "metadata": {
    "id": "kouVzfwHz2GQ",
    "ExecuteTime": {
     "end_time": "2025-09-08T20:41:55.649200Z",
     "start_time": "2025-09-08T20:41:55.640687Z"
    }
   },
   "source": [
    "# zip is used to combine the two lists (ignoring excess values)\n",
    "# it uses the addresses to access the items in the tuple and performs the multiplication\n",
    "v1 = [1,2,3,4]\n",
    "v2 = [3,2,5,4]\n",
    "list(zip(v1,v2))\n",
    "sum([i[0]*i[1] for i in list(zip(v1,v2))])\n",
    "\n"
   ],
   "outputs": [
    {
     "data": {
      "text/plain": [
       "38"
      ]
     },
     "execution_count": 12,
     "metadata": {},
     "output_type": "execute_result"
    }
   ],
   "execution_count": 12
  },
  {
   "cell_type": "markdown",
   "metadata": {
    "id": "8N7Gzg2R3T7_"
   },
   "source": [
    "---\n",
    "## Question 4/6\n",
    "\n",
    "The norm of a vector (its magnitude) is defined as:\n",
    "\n",
    "$$ \\lVert x \\rVert = \\sqrt{\\sum_{i=1}^n x_i^2}$$\n",
    "\n",
    "Write a for loop that computes a norm of a given vector $v$."
   ]
  },
  {
   "cell_type": "code",
   "metadata": {
    "id": "GYEQlsk8q7Mf",
    "colab": {
     "base_uri": "https://localhost:8080/"
    },
    "executionInfo": {
     "status": "ok",
     "timestamp": 1725987755316,
     "user_tz": -60,
     "elapsed": 410,
     "user": {
      "displayName": "Zuil Filho",
      "userId": "14731231616780016906"
     }
    },
    "outputId": "8e66e650-2be8-4b98-b0ec-9e6769479edc",
    "ExecuteTime": {
     "end_time": "2025-09-08T20:47:20.845481Z",
     "start_time": "2025-09-08T20:47:20.835763Z"
    }
   },
   "source": [
    "import math\n",
    "v1 = [2,2,2,2]\n",
    "result = 0\n",
    "for i,v in enumerate(v1):\n",
    "    result += v * v\n",
    "    if i == len(v1)-1:\n",
    "        new_result = math.sqrt(result)\n",
    "\n",
    "new_result\n"
   ],
   "outputs": [
    {
     "data": {
      "text/plain": [
       "4.0"
      ]
     },
     "execution_count": 15,
     "metadata": {},
     "output_type": "execute_result"
    }
   ],
   "execution_count": 15
  },
  {
   "cell_type": "code",
   "source": [
    "\n"
   ],
   "metadata": {
    "colab": {
     "base_uri": "https://localhost:8080/"
    },
    "id": "mZiQ0G2f4PLS",
    "executionInfo": {
     "status": "ok",
     "timestamp": 1725987758703,
     "user_tz": -60,
     "elapsed": 287,
     "user": {
      "displayName": "Zuil Filho",
      "userId": "14731231616780016906"
     }
    },
    "outputId": "0bb9456f-800c-40ca-b5d4-2124c828f298"
   },
   "outputs": [],
   "execution_count": null
  },
  {
   "cell_type": "markdown",
   "metadata": {
    "id": "Vb12GvWP-g-A"
   },
   "source": [
    "## Question 5/6\n",
    "\n",
    "Recall how to create a funcion:\n",
    "\n",
    "```python\n",
    "def name_of_the_function(list of arguments):\n",
    "    do something\n",
    "    ...\n",
    "    return the_result\n",
    "```\n",
    "\n",
    "1. Define a function that computes the dot product of two vectors $v1$ e $v2$\n",
    "\n",
    "2. Define a function that computes the norm of a vector $v$\n",
    "\n",
    "3. Call both function"
   ]
  },
  {
   "cell_type": "code",
   "metadata": {
    "id": "tHIzPKN14uU9",
    "ExecuteTime": {
     "end_time": "2025-09-08T20:49:54.649533Z",
     "start_time": "2025-09-08T20:49:54.640683Z"
    }
   },
   "source": [
    "def dot_product(v1,v2):\n",
    "    result = 0\n",
    "    for index,value in enumerate(v1):\n",
    "        result += v1[index] * v2[index]\n",
    "    return result\n",
    "\n",
    "def norm(v1):\n",
    "    result = 0\n",
    "    for i,v in enumerate(v1):\n",
    "        result += v * v\n",
    "        if i == len(v1)-1:\n",
    "            return math.sqrt(result)\n",
    "\n",
    "dot_product([1,2],[1,2])\n",
    "norm([2,2,2,2])\n",
    "\n",
    "\n"
   ],
   "outputs": [
    {
     "data": {
      "text/plain": [
       "4.0"
      ]
     },
     "execution_count": 17,
     "metadata": {},
     "output_type": "execute_result"
    }
   ],
   "execution_count": 17
  },
  {
   "cell_type": "markdown",
   "metadata": {
    "id": "B5ZKUFsG_kzI"
   },
   "source": [
    "## Question 6/6\n",
    "\n",
    "In Data Science there is this famous measure of similarity called cosine similarity.\n",
    "\n",
    "Given two vectors $v1$ e $v2$, it is defined as:\n",
    "\n",
    "$$\n",
    "  cos(v1, v2) = \\frac{v1 . v2}{\\lVert v1 \\rVert \\times \\lVert v2 \\rVert}\n",
    "$$  \n",
    "\n",
    "Using the above functions, define a new one that computes this similarity.\n"
   ]
  },
  {
   "cell_type": "code",
   "metadata": {},
   "source": [
    "\n",
    "def coisine(v1,v2):\n",
    "    return (dot_product(v1,v2))/(norm(v1)*norm(v2))"
   ],
   "execution_count": null,
   "outputs": []
  },
  {
   "metadata": {},
   "cell_type": "code",
   "outputs": [
    {
     "data": {
      "text/plain": [
       "0.9441175904999112"
      ]
     },
     "execution_count": 19,
     "metadata": {},
     "output_type": "execute_result"
    }
   ],
   "execution_count": 19,
   "source": [
    "print(coisine([1,2,3,4],[3,2,5,4]))\n",
    "\n",
    "\n"
   ]
  }
 ],
 "metadata": {
  "colab": {
   "provenance": [],
   "collapsed_sections": [
    "4uyCuLa1q7MS",
    "h7wENW4Dq7MS",
    "5aQOK-joq7MU",
    "qXp0-cYqq7MU",
    "KzO2gG8Jq7Ma",
    "WB4ER7Mhq7Mb",
    "X6GGm8xJq7Mb",
    "--4dLqwEq7Mb",
    "0vxbyPFoq7Mc"
   ]
  },
  "kernelspec": {
   "display_name": "Python 3 (ipykernel)",
   "language": "python",
   "name": "python3"
  },
  "language_info": {
   "codemirror_mode": {
    "name": "ipython",
    "version": 3
   },
   "file_extension": ".py",
   "mimetype": "text/x-python",
   "name": "python",
   "nbconvert_exporter": "python",
   "pygments_lexer": "ipython3",
   "version": "3.11.0"
  }
 },
 "nbformat": 4,
 "nbformat_minor": 0
}
